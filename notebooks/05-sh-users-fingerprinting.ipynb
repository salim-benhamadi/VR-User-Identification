{
 "cells": [
  {
   "cell_type": "code",
   "execution_count": null,
   "metadata": {},
   "outputs": [],
   "source": [
    "import numpy as np\n",
    "import matplotlib.pyplot as plt\n",
    "plt.rcParams['figure.figsize'] = [8, 6]\n",
    "plt.rcParams['figure.dpi'] = 140 # 200 e.g. is really fine, but slower\n",
    "from scipy import fft, signal\n",
    "import scipy\n",
    "from scipy.io.wavfile import read"
   ]
  },
  {
   "cell_type": "markdown",
   "metadata": {},
   "source": [
    "# 5. Characterising Movement "
   ]
  },
  {
   "cell_type": "markdown",
   "metadata": {},
   "source": [
    "The first step is to create fingerprints of movement sequence - identfying some features of people movements that makes it distinct from other people. Additionally, this kind of fingerpint should be immune to corruption: the fingerprint should be recognisable even in the poorest of conditions. and it shouldn't depend on the type of activity."
   ]
  },
  {
   "cell_type": "markdown",
   "metadata": {},
   "source": [
    "The Algorithm : Guiding Principles\n",
    "* Translation - Invariance\n",
    "* Type/speed of movement - Invariance \n",
    "* Robustness\n",
    "* Entorpy \n",
    "* Temporal Locality"
   ]
  }
 ],
 "metadata": {
  "kernelspec": {
   "display_name": "base",
   "language": "python",
   "name": "python3"
  },
  "language_info": {
   "name": "python",
   "version": "3.9.12"
  }
 },
 "nbformat": 4,
 "nbformat_minor": 2
}
