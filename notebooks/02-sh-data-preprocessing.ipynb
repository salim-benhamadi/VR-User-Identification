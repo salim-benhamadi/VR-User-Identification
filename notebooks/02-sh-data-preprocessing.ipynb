{
 "cells": [
  {
   "cell_type": "markdown",
   "metadata": {},
   "source": [
    "# 2. Data Preprocssing"
   ]
  },
  {
   "cell_type": "code",
   "execution_count": 1,
   "metadata": {},
   "outputs": [],
   "source": [
    "import pandas as pd\n",
    "import numpy as np\n",
    "import matplotlib.pyplot as plt"
   ]
  },
  {
   "cell_type": "markdown",
   "metadata": {},
   "source": [
    "## 2.1. Columns Variability "
   ]
  },
  {
   "cell_type": "code",
   "execution_count": 2,
   "metadata": {},
   "outputs": [],
   "source": [
    "mov_fast = pd.read_csv('../data/processed/movement_fast_stat.csv')\n",
    "mov_slow = pd.read_csv('../data/processed/movement_slow_stat.csv')\n",
    "traffic_fast = pd.read_csv('../data/processed/traffic_fast_stat.csv')\n",
    "traffic_slow = pd.read_csv('../data/processed/traffic_slow_stat.csv')"
   ]
  },
  {
   "cell_type": "code",
   "execution_count": null,
   "metadata": {},
   "outputs": [],
   "source": [
    "def find_non_varying_variables(df):\n",
    "    non_varying_columns = []\n",
    "    variability_percentage = []\n",
    "    \n",
    "    for column in df.columns:\n",
    "        unique_count = df[column].nunique()\n",
    "        total_count = len(df[column])\n",
    "        variability = unique_count / total_count * 100\n",
    "        \n",
    "        if unique_count == 1:\n",
    "            non_varying_columns.append(column)\n",
    "            variability_percentage.append(variability)\n",
    "    \n",
    "    result_df = pd.DataFrame({'Variable': non_varying_columns, 'Variability Percentage': variability_percentage})\n",
    "    return result_df"
   ]
  },
  {
   "cell_type": "code",
   "execution_count": null,
   "metadata": {},
   "outputs": [],
   "source": [
    "find_non_varying_variables(mov_fast)"
   ]
  },
  {
   "cell_type": "code",
   "execution_count": null,
   "metadata": {},
   "outputs": [],
   "source": [
    "find_non_varying_variables(mov_slow)"
   ]
  },
  {
   "cell_type": "code",
   "execution_count": null,
   "metadata": {},
   "outputs": [],
   "source": [
    "find_non_varying_variables(traffic_fast)"
   ]
  },
  {
   "cell_type": "code",
   "execution_count": null,
   "metadata": {},
   "outputs": [],
   "source": [
    "find_non_varying_variables(traffic_slow)"
   ]
  }
 ],
 "metadata": {
  "kernelspec": {
   "display_name": "base",
   "language": "python",
   "name": "python3"
  },
  "language_info": {
   "codemirror_mode": {
    "name": "ipython",
    "version": 3
   },
   "file_extension": ".py",
   "mimetype": "text/x-python",
   "name": "python",
   "nbconvert_exporter": "python",
   "pygments_lexer": "ipython3",
   "version": "3.9.12"
  }
 },
 "nbformat": 4,
 "nbformat_minor": 2
}
