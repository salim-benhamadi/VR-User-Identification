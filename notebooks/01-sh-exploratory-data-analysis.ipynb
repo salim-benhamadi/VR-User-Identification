{
 "cells": [
  {
   "attachments": {},
   "cell_type": "markdown",
   "metadata": {},
   "source": [
    "# 1. Exploratory Data Analysis"
   ]
  },
  {
   "attachments": {},
   "cell_type": "markdown",
   "metadata": {},
   "source": [
    "## 1.1. Understanding the Project\n",
    "\n",
    "The primary objective of this project is to predict and identify users' private information, including their **ID number**, **gender**, and **age**. This is achieved through the analysis of two types of data: **head and hand motion data**, and **traffic data**.\n",
    "\n",
    "Data collection involved conducting experiments with **100 participants** who engaged in gameplay across **two sets**: **Beat Saber and Cooking Simulator** for the first set, and **Medal of Honor and Forklift Simulator** for the second set. Each set consisted of a **slow game** and a **fast game**. For the first set, Beat Saber was the fast game, and Cooking Simulator was the slow one. For the second set, Forklift Simulator was the fast game, and Medal of Honor was the slow one. Each participant played each game for multiple sessions, with a minimum of **10 minutes** per session. Participants could choose to start with either the fast or slow game based on their experience with the VR headset. The participants were divided into **two groups**, with each group situated in a separate room with similar conditions. The VR headset used for the experiments was the **Oculus Quest 2**.\n",
    "\n",
    "Throughout the experiments, participants experienced diverse types of movements, such as **walking** and **joystick interactions**, depending on the nature of the selected game. Simultaneously, traffic data was recorded by connecting the VR headset to a capable device capable of capturing the traffic data while participants engaged in gameplay.\n",
    "\n",
    "Among the initially planned **100 participants**, we opted to analyze the data from only **60 participants**. This decision was prompted by technical challenges and disruptions experienced by the remaining participants. Some individuals encountered technical issues during the experiments, while others had to discontinue their participation due to VR sickness. As a result, the dataset was narrowed down to the data collected from the 60 participants who completed the experiments successfully.\n"
   ]
  },
  {
   "cell_type": "markdown",
   "metadata": {},
   "source": [
    "## 1.2. Understanding the Games\n",
    "In this project project we selected 4 well know VR Games which Beat Saber, cooking simlator, medal of honor, and forklift somulator, this games can capture different movement patterns.\n",
    "### 1.2.1. Beat Saber\n",
    "![Beat Saber](https://www.donanimhaber.com/images/images/haber/116345/src/facebook-sanal-gerceklik-sirketi-beat-games-i-satin-aldi116345_0.jpg)\n",
    "Image source :  https://www.donanimhaber.com/facebook-sanal-gerceklik-sirketi-beat-games-i-satin-aldi--116345\n",
    "\n",
    "Beat Saber stands as a Virtual Reality rhythm game where the objective revolves around slashing beat cubes using a lightsaber as they approach [1]. This game is about maintaining rhythm, with players equipped with a lightsaber in each hand—one blue and one red. As the music initiates, blocks comes at the player with colored arrows glide , akin to other rhythm games. The player's task is to slash the blocks following the direction indicated by the arrows, all while navigating obstacles that come their way through body and lightsaber movements.\n",
    "\n",
    "Success in Beat Saber hinges on precise timing; successful slashes contribute to an escalating combo multiplier and, consequently, a higher final score. While the initial gameplay may seem straightforward, numerous streaming videos reveal the potential for chaos to ensue rapidly. To accommodate a range of skill levels, each song features multiple difficulty levels, allowing beginners to easily engage and experts to revel in a challenging experience.\n",
    "\n",
    "Sources : \n",
    "\n",
    "[1] :  https://www.meta.com/en-gb/experiences/2448060205267927/\n",
    "\n",
    "[2] :  https://www.windowscentral.com/beat-saber-everything-we-know-about-vr-rhythm-game\n",
    "\n",
    "### 1.2.2. Cooking Simluator\n",
    "![Cooking Simluator](https://wallpapercave.com/wp/wp8447439.jpg)\n",
    "\n",
    "Image Source :  https://wallpapercave.com/cooking-simulator-wallpapers\n",
    "\n",
    "### 1.2.3. Medal of Honor\n",
    "![Medal of Honor](https://cdn.wccftech.com/wp-content/uploads/2020/12/Medal-of-Honor-Above-and-Beyond-Review-01-Header.jpg)\n",
    "\n",
    "Image Source :  https://wccftech.com/review/medal-of-honor-above-and-beyond-vr-heart/\n",
    "\n",
    "Medal of Honor: Above and Beyond is a VR game specifically developed for the Oculus Rift, in collaboration with the Oculus team. It is crafted to offer an immersive VR experience from the start. In this game, players assume the role of an Allied agent from the Office of Strategic Services (OSS), embarking on missions to infiltrate, overpower, and outwit the Nazi war effort during the World War II [1].\n",
    "\n",
    "Throughout the game, players will encounter a variety of movement mechanics, designed to enhance the virtual reality experience. These include: Locomotion, Leaning and Ducking, Climbing and Grappling, Aiming and Shooting, and Physical Interaction with Objects [1].\n",
    "\n",
    "Sources : \n",
    "[1] : https://www.windowscentral.com/medal-honor-above-and-beyond\n",
    "\n",
    "### 1.2.4. Forklift simulator\n",
    "![Forklift simulator](https://fs-prod-cdn.nintendo-europe.com/media/images/10_share_images/games_15/nintendo_switch_download_software_1/2x1_NSwitchDS_ForkliftSimulator2023.jpg)\n",
    "\n",
    "Image Source :  https://www.nintendo.it/Giochi/Giochi-scaricabili-per-Nintendo-Switch/Forklift-Simulator-2023-2435161.html\n"
   ]
  },
  {
   "cell_type": "markdown",
   "metadata": {},
   "source": [
    "## 1.3. Understanding the Data\n",
    "The data is organized as follow : \n",
    "```markdown\n",
    "├── raw\n",
    "    ├── Intitial survey                                     <- General information (age, gender and previous experience) for every participant.\n",
    "    │\n",
    "    ├── Time Score Sheet                                    <- The score sheet for every participant.\n",
    "    │\n",
    "    ├── Frames                                              <- It contains Four files for every game of each participant\n",
    "    │   │\n",
    "    │   ├── group1_order1_user0_fast_traffic_fill.csv       <- Contains the frames extracted from the corresponding raw traffic data for the fast game\n",
    "    │   │                                                      filled with zeros when missing frames were detected.\n",
    "    │   ├── group1_order1_user0_fast_traffic.csv            <- Contains the frames extracted from the corresponding raw traffic data for the fast game;\n",
    "    │   │\n",
    "    │   ├── group1_order1_user0_slow_traffic_fill.csv       <- Contains the frames extracted from the corresponding raw traffic data for the slow game \n",
    "    │   │                                                      filled with zeros when missing frames were detected.\n",
    "    │   └── group1_order1_user0_slow_traffic.csv            <- Contains the frames extracted from the corresponding raw traffic data for the slow game;\n",
    "    │\n",
    "    ├── Raw Traffic and Movement Data                       <- It contains a subfolder for every participant (in the format groupX_orderY_userZ), and \n",
    "    │   │                                                      every subfolder contains:\n",
    "    │   ├── group1_order1_user0                                  \n",
    "    │   │\n",
    "    │   │   ├── group1_order1_user0_fast_movement.csv       <- The movement data for the \"fast\" game\n",
    "    │   │   │\n",
    "    │   │   ├── group1_order1_user0_fast_traffic.csv        <- The raw traffic data for the \"fast\" game\n",
    "    │   │   │\n",
    "    │   │   ├── group1_order1_user0_slow_movement.csv       <- The movement data for the \"slow\" game\n",
    "    │   │   │\n",
    "    │   │   └── group1_order1_user0_slow_traffic.csv        <- The raw traffic data for the \"slow\" game\n",
    "    │___________________________________________________________________________________________________________________________________________________\n",
    "```"
   ]
  },
  {
   "cell_type": "markdown",
   "metadata": {},
   "source": [
    "* Initial survery\n",
    "\n",
    "| Variable | Description |\n",
    "| -------- | ----------- |\n",
    "| ID | User Identifier, formatted as \"groupX_orderY_userZ\" ........................................................................................................................................................................................................................................................................... | |\n",
    "| Age | User's Age |\n",
    "| Previous VR Experience (1-5) | Ordinal variable ranging from 1 to 5, where 1 indicates minimal VR experience and 5 indicates extensive VR experience |\n",
    "| Previous General Gaming Experience (1-5) | Ordinal variable ranging from 1 to 5, where 1 signifies minimal general gaming experience and 5 denotes extensive general gaming experience |"
   ]
  },
  {
   "cell_type": "markdown",
   "metadata": {},
   "source": [
    "* Frame Data\n",
    "\n",
    "| Variable | Description |\n",
    "| -------- | ----------- |\n",
    "| time | Time elapsed in seconds, starting from 0 when the user begins playing ........................................................................................................................................................................................................................................................................... |\n",
    "| size | The size of each data packet (bytes)            |\n",
    "| pkts | The total number of data packets transmitteds       |"
   ]
  },
  {
   "cell_type": "markdown",
   "metadata": {},
   "source": [
    "* Movement Data\n",
    "\n",
    "![Oculus Quest Consoles ](../references/Quest%20Controller%20Diagram.png)\n",
    "    * **Sensor 0 and Sensor 1**: These are often the sensors located on the VR headset itself. They track the position and orientation (pitch, yaw, roll) of the user's head. This tracking allows the VR system to render the virtual environment from the correct perspective, changing in real-time as the user moves their head.\n",
    "    * **Sensor 2 and Sensor 3**: These could refer to the sensors on the VR controllers (one for each hand). These sensors track the position and orientation of the user's hands, translating physical movements into virtual actions, such as grabbing, pointing, or gesturing.\n",
    "\n",
    "| Variable | Description |\n",
    "| -------- | ----------- |\n",
    "| Time | Timer in seconds, starting from 0 when the user begins the session |\n",
    "| Remote Buttons | Refers to buttons on an additional remote device; always 0 and can be ignored |\n",
    "| Touch Buttons | Corresponds to buttons on the controllers; each button is assigned a unique number, and pressing a button records its number in the CSV file. Simultaneous presses record the sum of these numbers. Button values: A: 1, B: 2, Right Thumb: 4, X: 256, Y: 512, Left Thumb: 1024, Menu: 1048576 |\n",
    "| Touch Touches |it's capacitive sensors on the buttons and thumbsticks. These sensors can detect when a finger is lightly touching the surface, even if the button isn't being physically pressed down. This feature is used to enhance immersion and interaction in VR. By detecting the mere presence of fingers on the controller, VR systems can mimic more natural hand and finger movements in the virtual environment. For example, if your fingers are resting on the trigger or buttons, your virtual hand might show a corresponding grip or readiness to interact.|\n",
    "| Left Index Trigger | Measures pressure on the left index trigger, ranging from 0 (no pressure) to 1 (full pressure) |\n",
    "| Right Index Trigger | Measures pressure on the right index trigger, ranging from 0 to 1 |\n",
    "| Left Hand Trigger | Measures pressure on the left hand trigger, ranging from 0 to 1 |\n",
    "| Right Hand Trigger | Measures pressure on the right hand trigger, ranging from 0 to 1 |\n",
    "| Left Touch PosX | X-axis position of the left controller |\n",
    "| Left Touch PosY | Y-axis position of the left controller |\n",
    "| Left Touch PosZ | Z-axis position of the left controller |\n",
    "| Left Touch OrientationW | W component of the left controller's orientation quaternion |\n",
    "| Left Touch OrientationX | X component of the left controller's orientation quaternion |\n",
    "| Left Touch OrientationY | Y component of the left controller's orientation quaternion |\n",
    "| Left Touch OrientationZ | Z component of the left controller's orientation quaternion |\n",
    "| Right Touch PosX | X-axis position of the right controller |\n",
    "| Right Touch PosY | Y-axis position of the right controller |\n",
    "| Right Touch PosZ | Z-axis position of the right controller |\n",
    "| Right Touch OrientationW | W component of the right controller's orientation quaternion |\n",
    "| Right Touch OrientationX | X component of the right controller's orientation quaternion |\n",
    "| Right Touch OrientationY | Y component of the right controller's orientation quaternion |\n",
    "| Right Touch OrientationZ | Z component of the right controller's orientation quaternion |\n",
    "| Head PosX | X-axis position of the headset |\n",
    "| Head PosY | Y-axis position of the headset |\n",
    "| Head PosZ | Z-axis position of the headset |\n",
    "| Head OrientationW | W component of the headset's orientation quaternion |\n",
    "| Head OrientationX | X component of the headset's orientation quaternion |\n",
    "| Head OrientationY | Y component of the headset's orientation quaternion |\n",
    "| Head OrientationZ | Z component of the headset's orientation quaternion |\n",
    "| Sensor 0 PosX | X-axis position of Sensor 0 |\n",
    "| Sensor 0 PosY | Y-axis position of Sensor 0 |\n",
    "| Sensor 0 PosZ | Z-axis position of Sensor 0 |\n",
    "| Sensor 0 OrientationW | W component of Sensor 0's orientation quaternion |\n",
    "| Sensor 0 OrientationX | X component of Sensor 0's orientation quaternion |\n",
    "| Sensor 0 OrientationY | Y component of Sensor 0's orientation quaternion |\n",
    "| Sensor 0 OrientationZ | Z component of Sensor 0's orientation quaternion |\n",
    "| Sensor 1 PosX | X-axis position of Sensor 1 |\n",
    "| Sensor 1 PosY | Y-axis position of Sensor 1 |\n",
    "| Sensor 1 PosZ | Z-axis position of Sensor 1 |\n",
    "| Sensor 1 OrientationW | W component of Sensor 1's orientation quaternion |\n",
    "| Sensor 1 OrientationX | X component of Sensor 1's orientation quaternion |\n",
    "| Sensor 1 OrientationY | Y component of Sensor 1's orientation quaternion |\n",
    "| Sensor 1 OrientationZ | Z component of Sensor 1's orientation quaternion |\n",
    "| Sensor 2 PosX | X-axis position of Sensor 2 |\n",
    "| Sensor 2 PosY | Y-axis position of Sensor 2 |\n",
    "| Sensor 2 PosZ | Z-axis position of Sensor 2 |\n",
    "| Sensor 2 OrientationW | W component of Sensor 2's orientation quaternion |\n",
    "| Sensor 2 OrientationX | X component of Sensor 2's orientation quaternion |\n",
    "| Sensor 2 OrientationY | Y component of Sensor 2's orientation quaternion |\n",
    "| Sensor 2 OrientationZ | Z component of Sensor 2's orientation quaternion |\n",
    "| Sensor 3 PosX | X-axis position of Sensor 3 |\n",
    "| Sensor 3 PosY | Y-axis position of Sensor 3 |\n",
    "| Sensor 3 PosZ | Z-axis position of Sensor 3 |\n",
    "| Sensor 3 OrientationW | W component of Sensor 3's orientation quaternion |\n",
    "| Sensor 3 OrientationX | X component of Sensor 3's orientation quaternion |\n",
    "| Sensor 3 OrientationY | Y component of Sensor 3's orientation quaternion |\n",
    "| Sensor 3 OrientationZ | Z component of Sensor 3's orientation quaternion |\n"
   ]
  },
  {
   "attachments": {},
   "cell_type": "markdown",
   "metadata": {},
   "source": [
    "## 1.2. Descriptive Statistics"
   ]
  },
  {
   "cell_type": "code",
   "execution_count": 2,
   "metadata": {},
   "outputs": [],
   "source": [
    "import pandas as pd \n",
    "import numpy as np \n",
    "import matplotlib.pyplot as plt \n",
    "import plotly\n",
    "import os\n",
    "import plotly.express as px"
   ]
  },
  {
   "cell_type": "code",
   "execution_count": null,
   "metadata": {},
   "outputs": [],
   "source": [
    "# Store all the files paths related to the participants data\n",
    "all_files = []\n",
    "data_path = '../data/raw/Raw_traffic_and_movement_data/'\n",
    "for path, subdirs, files in os.walk(data_path):\n",
    "    for name in files:\n",
    "        all_files.append(path + '/' + name)\n",
    "\n",
    "# Separating traffic data and movement data paths \n",
    "traffic_data = [x  for x in all_files if '_traffic.csv' in x]\n",
    "movement_data = [x  for x in all_files if '_movement.csv' in x]"
   ]
  },
  {
   "cell_type": "code",
   "execution_count": null,
   "metadata": {},
   "outputs": [
    {
     "name": "stdout",
     "output_type": "stream",
     "text": [
      "{'group1_order1_user0': 1, 'group1_order1_user1': 2, 'group1_order1_user10': 3, 'group1_order1_user11': 4, 'group1_order1_user12': 5, 'group1_order1_user13': 6, 'group1_order1_user14': 7, 'group1_order1_user2': 8, 'group1_order1_user3': 9, 'group1_order1_user4': 10, 'group1_order1_user5': 11, 'group1_order1_user6': 12, 'group1_order1_user7': 13, 'group1_order1_user8': 14, 'group1_order1_user9': 15, 'group1_order2_user0': 16, 'group1_order2_user1': 17, 'group1_order2_user10': 18, 'group1_order2_user11': 19, 'group1_order2_user12': 20, 'group1_order2_user13': 21, 'group1_order2_user14': 22, 'group1_order2_user2': 23, 'group1_order2_user3': 24, 'group1_order2_user4': 25, 'group1_order2_user5': 26, 'group1_order2_user6': 27, 'group1_order2_user7': 28, 'group1_order2_user8': 29, 'group1_order2_user9': 30, 'group2_order1_user0': 31, 'group2_order1_user1': 32, 'group2_order1_user10': 33, 'group2_order1_user11': 34, 'group2_order1_user12': 35, 'group2_order1_user13': 36, 'group2_order1_user14': 37, 'group2_order1_user2': 38, 'group2_order1_user3': 39, 'group2_order1_user4': 40, 'group2_order1_user5': 41, 'group2_order1_user6': 42, 'group2_order1_user7': 43, 'group2_order1_user8': 44, 'group2_order1_user9': 45, 'group2_order2_user0': 46, 'group2_order2_user1': 47, 'group2_order2_user10': 48, 'group2_order2_user11': 49, 'group2_order2_user12': 50, 'group2_order2_user13': 51, 'group2_order2_user14': 52, 'group2_order2_user2': 53, 'group2_order2_user3': 54, 'group2_order2_user4': 55, 'group2_order2_user5': 56, 'group2_order2_user6': 57, 'group2_order2_user7': 58, 'group2_order2_user8': 59, 'group2_order2_user9': 60}\n"
     ]
    }
   ],
   "source": [
    "# Assign Numeric ID to participants \n",
    "participants = next(os.walk(data_path))[1]\n",
    "participant_dict = {participant: idx + 1 for idx, participant in enumerate(participants)}\n",
    "print(participant_dict)"
   ]
  },
  {
   "cell_type": "markdown",
   "metadata": {},
   "source": [
    "### 1.2.1. Initial Survery Data"
   ]
  },
  {
   "cell_type": "code",
   "execution_count": 3,
   "metadata": {},
   "outputs": [],
   "source": [
    "is_df = pd.read_excel('../data/raw/Initial survey.xlsx')"
   ]
  },
  {
   "cell_type": "code",
   "execution_count": 4,
   "metadata": {},
   "outputs": [
    {
     "data": {
      "text/html": [
       "<div>\n",
       "<style scoped>\n",
       "    .dataframe tbody tr th:only-of-type {\n",
       "        vertical-align: middle;\n",
       "    }\n",
       "\n",
       "    .dataframe tbody tr th {\n",
       "        vertical-align: top;\n",
       "    }\n",
       "\n",
       "    .dataframe thead th {\n",
       "        text-align: right;\n",
       "    }\n",
       "</style>\n",
       "<table border=\"1\" class=\"dataframe\">\n",
       "  <thead>\n",
       "    <tr style=\"text-align: right;\">\n",
       "      <th></th>\n",
       "      <th>Age</th>\n",
       "      <th>Previous VR experience (1-5)</th>\n",
       "      <th>Previous general gaming experience (1-5)</th>\n",
       "    </tr>\n",
       "  </thead>\n",
       "  <tbody>\n",
       "    <tr>\n",
       "      <th>count</th>\n",
       "      <td>60.000000</td>\n",
       "      <td>60.000000</td>\n",
       "      <td>60.000000</td>\n",
       "    </tr>\n",
       "    <tr>\n",
       "      <th>mean</th>\n",
       "      <td>26.433333</td>\n",
       "      <td>1.683333</td>\n",
       "      <td>3.200000</td>\n",
       "    </tr>\n",
       "    <tr>\n",
       "      <th>std</th>\n",
       "      <td>3.475662</td>\n",
       "      <td>0.853540</td>\n",
       "      <td>1.375327</td>\n",
       "    </tr>\n",
       "    <tr>\n",
       "      <th>min</th>\n",
       "      <td>19.000000</td>\n",
       "      <td>1.000000</td>\n",
       "      <td>1.000000</td>\n",
       "    </tr>\n",
       "    <tr>\n",
       "      <th>25%</th>\n",
       "      <td>24.000000</td>\n",
       "      <td>1.000000</td>\n",
       "      <td>2.000000</td>\n",
       "    </tr>\n",
       "    <tr>\n",
       "      <th>50%</th>\n",
       "      <td>26.000000</td>\n",
       "      <td>1.000000</td>\n",
       "      <td>3.000000</td>\n",
       "    </tr>\n",
       "    <tr>\n",
       "      <th>75%</th>\n",
       "      <td>27.500000</td>\n",
       "      <td>2.000000</td>\n",
       "      <td>4.000000</td>\n",
       "    </tr>\n",
       "    <tr>\n",
       "      <th>max</th>\n",
       "      <td>35.000000</td>\n",
       "      <td>4.000000</td>\n",
       "      <td>5.000000</td>\n",
       "    </tr>\n",
       "  </tbody>\n",
       "</table>\n",
       "</div>"
      ],
      "text/plain": [
       "             Age  Previous VR experience (1-5)  \\\n",
       "count  60.000000                     60.000000   \n",
       "mean   26.433333                      1.683333   \n",
       "std     3.475662                      0.853540   \n",
       "min    19.000000                      1.000000   \n",
       "25%    24.000000                      1.000000   \n",
       "50%    26.000000                      1.000000   \n",
       "75%    27.500000                      2.000000   \n",
       "max    35.000000                      4.000000   \n",
       "\n",
       "       Previous general gaming experience (1-5)  \n",
       "count                                 60.000000  \n",
       "mean                                   3.200000  \n",
       "std                                    1.375327  \n",
       "min                                    1.000000  \n",
       "25%                                    2.000000  \n",
       "50%                                    3.000000  \n",
       "75%                                    4.000000  \n",
       "max                                    5.000000  "
      ]
     },
     "execution_count": 4,
     "metadata": {},
     "output_type": "execute_result"
    }
   ],
   "source": [
    "is_df.describe()"
   ]
  },
  {
   "cell_type": "code",
   "execution_count": 14,
   "metadata": {},
   "outputs": [
    {
     "data": {
      "application/vnd.plotly.v1+json": {
       "config": {
        "plotlyServerURL": "https://plot.ly"
       },
       "data": [
        {
         "alignmentgroup": "True",
         "bingroup": "x",
         "hovertemplate": "Age=%{x}<br>count=%{y}<extra></extra>",
         "legendgroup": "",
         "marker": {
          "color": "#636efa",
          "pattern": {
           "shape": ""
          }
         },
         "name": "",
         "offsetgroup": "",
         "orientation": "v",
         "showlegend": false,
         "type": "histogram",
         "x": [
          22,
          33,
          34,
          24,
          23,
          35,
          24,
          25,
          26,
          25,
          27,
          24,
          24,
          27,
          25,
          31,
          25,
          19,
          27,
          24,
          29,
          22,
          27,
          26,
          22,
          27,
          29,
          21,
          25,
          29,
          27,
          35,
          25,
          27,
          22,
          25,
          25,
          31,
          23,
          24,
          32,
          29,
          33,
          25,
          27,
          29,
          23,
          24,
          27,
          24,
          27,
          31,
          27,
          24,
          30,
          26,
          27,
          25,
          24,
          27
         ],
         "xaxis": "x",
         "yaxis": "y"
        }
       ],
       "layout": {
        "barmode": "relative",
        "height": 800,
        "legend": {
         "tracegroupgap": 0
        },
        "margin": {
         "t": 60
        },
        "template": {
         "data": {
          "bar": [
           {
            "error_x": {
             "color": "#2a3f5f"
            },
            "error_y": {
             "color": "#2a3f5f"
            },
            "marker": {
             "line": {
              "color": "#E5ECF6",
              "width": 0.5
             },
             "pattern": {
              "fillmode": "overlay",
              "size": 10,
              "solidity": 0.2
             }
            },
            "type": "bar"
           }
          ],
          "barpolar": [
           {
            "marker": {
             "line": {
              "color": "#E5ECF6",
              "width": 0.5
             },
             "pattern": {
              "fillmode": "overlay",
              "size": 10,
              "solidity": 0.2
             }
            },
            "type": "barpolar"
           }
          ],
          "carpet": [
           {
            "aaxis": {
             "endlinecolor": "#2a3f5f",
             "gridcolor": "white",
             "linecolor": "white",
             "minorgridcolor": "white",
             "startlinecolor": "#2a3f5f"
            },
            "baxis": {
             "endlinecolor": "#2a3f5f",
             "gridcolor": "white",
             "linecolor": "white",
             "minorgridcolor": "white",
             "startlinecolor": "#2a3f5f"
            },
            "type": "carpet"
           }
          ],
          "choropleth": [
           {
            "colorbar": {
             "outlinewidth": 0,
             "ticks": ""
            },
            "type": "choropleth"
           }
          ],
          "contour": [
           {
            "colorbar": {
             "outlinewidth": 0,
             "ticks": ""
            },
            "colorscale": [
             [
              0,
              "#0d0887"
             ],
             [
              0.1111111111111111,
              "#46039f"
             ],
             [
              0.2222222222222222,
              "#7201a8"
             ],
             [
              0.3333333333333333,
              "#9c179e"
             ],
             [
              0.4444444444444444,
              "#bd3786"
             ],
             [
              0.5555555555555556,
              "#d8576b"
             ],
             [
              0.6666666666666666,
              "#ed7953"
             ],
             [
              0.7777777777777778,
              "#fb9f3a"
             ],
             [
              0.8888888888888888,
              "#fdca26"
             ],
             [
              1,
              "#f0f921"
             ]
            ],
            "type": "contour"
           }
          ],
          "contourcarpet": [
           {
            "colorbar": {
             "outlinewidth": 0,
             "ticks": ""
            },
            "type": "contourcarpet"
           }
          ],
          "heatmap": [
           {
            "colorbar": {
             "outlinewidth": 0,
             "ticks": ""
            },
            "colorscale": [
             [
              0,
              "#0d0887"
             ],
             [
              0.1111111111111111,
              "#46039f"
             ],
             [
              0.2222222222222222,
              "#7201a8"
             ],
             [
              0.3333333333333333,
              "#9c179e"
             ],
             [
              0.4444444444444444,
              "#bd3786"
             ],
             [
              0.5555555555555556,
              "#d8576b"
             ],
             [
              0.6666666666666666,
              "#ed7953"
             ],
             [
              0.7777777777777778,
              "#fb9f3a"
             ],
             [
              0.8888888888888888,
              "#fdca26"
             ],
             [
              1,
              "#f0f921"
             ]
            ],
            "type": "heatmap"
           }
          ],
          "heatmapgl": [
           {
            "colorbar": {
             "outlinewidth": 0,
             "ticks": ""
            },
            "colorscale": [
             [
              0,
              "#0d0887"
             ],
             [
              0.1111111111111111,
              "#46039f"
             ],
             [
              0.2222222222222222,
              "#7201a8"
             ],
             [
              0.3333333333333333,
              "#9c179e"
             ],
             [
              0.4444444444444444,
              "#bd3786"
             ],
             [
              0.5555555555555556,
              "#d8576b"
             ],
             [
              0.6666666666666666,
              "#ed7953"
             ],
             [
              0.7777777777777778,
              "#fb9f3a"
             ],
             [
              0.8888888888888888,
              "#fdca26"
             ],
             [
              1,
              "#f0f921"
             ]
            ],
            "type": "heatmapgl"
           }
          ],
          "histogram": [
           {
            "marker": {
             "pattern": {
              "fillmode": "overlay",
              "size": 10,
              "solidity": 0.2
             }
            },
            "type": "histogram"
           }
          ],
          "histogram2d": [
           {
            "colorbar": {
             "outlinewidth": 0,
             "ticks": ""
            },
            "colorscale": [
             [
              0,
              "#0d0887"
             ],
             [
              0.1111111111111111,
              "#46039f"
             ],
             [
              0.2222222222222222,
              "#7201a8"
             ],
             [
              0.3333333333333333,
              "#9c179e"
             ],
             [
              0.4444444444444444,
              "#bd3786"
             ],
             [
              0.5555555555555556,
              "#d8576b"
             ],
             [
              0.6666666666666666,
              "#ed7953"
             ],
             [
              0.7777777777777778,
              "#fb9f3a"
             ],
             [
              0.8888888888888888,
              "#fdca26"
             ],
             [
              1,
              "#f0f921"
             ]
            ],
            "type": "histogram2d"
           }
          ],
          "histogram2dcontour": [
           {
            "colorbar": {
             "outlinewidth": 0,
             "ticks": ""
            },
            "colorscale": [
             [
              0,
              "#0d0887"
             ],
             [
              0.1111111111111111,
              "#46039f"
             ],
             [
              0.2222222222222222,
              "#7201a8"
             ],
             [
              0.3333333333333333,
              "#9c179e"
             ],
             [
              0.4444444444444444,
              "#bd3786"
             ],
             [
              0.5555555555555556,
              "#d8576b"
             ],
             [
              0.6666666666666666,
              "#ed7953"
             ],
             [
              0.7777777777777778,
              "#fb9f3a"
             ],
             [
              0.8888888888888888,
              "#fdca26"
             ],
             [
              1,
              "#f0f921"
             ]
            ],
            "type": "histogram2dcontour"
           }
          ],
          "mesh3d": [
           {
            "colorbar": {
             "outlinewidth": 0,
             "ticks": ""
            },
            "type": "mesh3d"
           }
          ],
          "parcoords": [
           {
            "line": {
             "colorbar": {
              "outlinewidth": 0,
              "ticks": ""
             }
            },
            "type": "parcoords"
           }
          ],
          "pie": [
           {
            "automargin": true,
            "type": "pie"
           }
          ],
          "scatter": [
           {
            "marker": {
             "colorbar": {
              "outlinewidth": 0,
              "ticks": ""
             }
            },
            "type": "scatter"
           }
          ],
          "scatter3d": [
           {
            "line": {
             "colorbar": {
              "outlinewidth": 0,
              "ticks": ""
             }
            },
            "marker": {
             "colorbar": {
              "outlinewidth": 0,
              "ticks": ""
             }
            },
            "type": "scatter3d"
           }
          ],
          "scattercarpet": [
           {
            "marker": {
             "colorbar": {
              "outlinewidth": 0,
              "ticks": ""
             }
            },
            "type": "scattercarpet"
           }
          ],
          "scattergeo": [
           {
            "marker": {
             "colorbar": {
              "outlinewidth": 0,
              "ticks": ""
             }
            },
            "type": "scattergeo"
           }
          ],
          "scattergl": [
           {
            "marker": {
             "colorbar": {
              "outlinewidth": 0,
              "ticks": ""
             }
            },
            "type": "scattergl"
           }
          ],
          "scattermapbox": [
           {
            "marker": {
             "colorbar": {
              "outlinewidth": 0,
              "ticks": ""
             }
            },
            "type": "scattermapbox"
           }
          ],
          "scatterpolar": [
           {
            "marker": {
             "colorbar": {
              "outlinewidth": 0,
              "ticks": ""
             }
            },
            "type": "scatterpolar"
           }
          ],
          "scatterpolargl": [
           {
            "marker": {
             "colorbar": {
              "outlinewidth": 0,
              "ticks": ""
             }
            },
            "type": "scatterpolargl"
           }
          ],
          "scatterternary": [
           {
            "marker": {
             "colorbar": {
              "outlinewidth": 0,
              "ticks": ""
             }
            },
            "type": "scatterternary"
           }
          ],
          "surface": [
           {
            "colorbar": {
             "outlinewidth": 0,
             "ticks": ""
            },
            "colorscale": [
             [
              0,
              "#0d0887"
             ],
             [
              0.1111111111111111,
              "#46039f"
             ],
             [
              0.2222222222222222,
              "#7201a8"
             ],
             [
              0.3333333333333333,
              "#9c179e"
             ],
             [
              0.4444444444444444,
              "#bd3786"
             ],
             [
              0.5555555555555556,
              "#d8576b"
             ],
             [
              0.6666666666666666,
              "#ed7953"
             ],
             [
              0.7777777777777778,
              "#fb9f3a"
             ],
             [
              0.8888888888888888,
              "#fdca26"
             ],
             [
              1,
              "#f0f921"
             ]
            ],
            "type": "surface"
           }
          ],
          "table": [
           {
            "cells": {
             "fill": {
              "color": "#EBF0F8"
             },
             "line": {
              "color": "white"
             }
            },
            "header": {
             "fill": {
              "color": "#C8D4E3"
             },
             "line": {
              "color": "white"
             }
            },
            "type": "table"
           }
          ]
         },
         "layout": {
          "annotationdefaults": {
           "arrowcolor": "#2a3f5f",
           "arrowhead": 0,
           "arrowwidth": 1
          },
          "autotypenumbers": "strict",
          "coloraxis": {
           "colorbar": {
            "outlinewidth": 0,
            "ticks": ""
           }
          },
          "colorscale": {
           "diverging": [
            [
             0,
             "#8e0152"
            ],
            [
             0.1,
             "#c51b7d"
            ],
            [
             0.2,
             "#de77ae"
            ],
            [
             0.3,
             "#f1b6da"
            ],
            [
             0.4,
             "#fde0ef"
            ],
            [
             0.5,
             "#f7f7f7"
            ],
            [
             0.6,
             "#e6f5d0"
            ],
            [
             0.7,
             "#b8e186"
            ],
            [
             0.8,
             "#7fbc41"
            ],
            [
             0.9,
             "#4d9221"
            ],
            [
             1,
             "#276419"
            ]
           ],
           "sequential": [
            [
             0,
             "#0d0887"
            ],
            [
             0.1111111111111111,
             "#46039f"
            ],
            [
             0.2222222222222222,
             "#7201a8"
            ],
            [
             0.3333333333333333,
             "#9c179e"
            ],
            [
             0.4444444444444444,
             "#bd3786"
            ],
            [
             0.5555555555555556,
             "#d8576b"
            ],
            [
             0.6666666666666666,
             "#ed7953"
            ],
            [
             0.7777777777777778,
             "#fb9f3a"
            ],
            [
             0.8888888888888888,
             "#fdca26"
            ],
            [
             1,
             "#f0f921"
            ]
           ],
           "sequentialminus": [
            [
             0,
             "#0d0887"
            ],
            [
             0.1111111111111111,
             "#46039f"
            ],
            [
             0.2222222222222222,
             "#7201a8"
            ],
            [
             0.3333333333333333,
             "#9c179e"
            ],
            [
             0.4444444444444444,
             "#bd3786"
            ],
            [
             0.5555555555555556,
             "#d8576b"
            ],
            [
             0.6666666666666666,
             "#ed7953"
            ],
            [
             0.7777777777777778,
             "#fb9f3a"
            ],
            [
             0.8888888888888888,
             "#fdca26"
            ],
            [
             1,
             "#f0f921"
            ]
           ]
          },
          "colorway": [
           "#636efa",
           "#EF553B",
           "#00cc96",
           "#ab63fa",
           "#FFA15A",
           "#19d3f3",
           "#FF6692",
           "#B6E880",
           "#FF97FF",
           "#FECB52"
          ],
          "font": {
           "color": "#2a3f5f"
          },
          "geo": {
           "bgcolor": "white",
           "lakecolor": "white",
           "landcolor": "#E5ECF6",
           "showlakes": true,
           "showland": true,
           "subunitcolor": "white"
          },
          "hoverlabel": {
           "align": "left"
          },
          "hovermode": "closest",
          "mapbox": {
           "style": "light"
          },
          "paper_bgcolor": "white",
          "plot_bgcolor": "#E5ECF6",
          "polar": {
           "angularaxis": {
            "gridcolor": "white",
            "linecolor": "white",
            "ticks": ""
           },
           "bgcolor": "#E5ECF6",
           "radialaxis": {
            "gridcolor": "white",
            "linecolor": "white",
            "ticks": ""
           }
          },
          "scene": {
           "xaxis": {
            "backgroundcolor": "#E5ECF6",
            "gridcolor": "white",
            "gridwidth": 2,
            "linecolor": "white",
            "showbackground": true,
            "ticks": "",
            "zerolinecolor": "white"
           },
           "yaxis": {
            "backgroundcolor": "#E5ECF6",
            "gridcolor": "white",
            "gridwidth": 2,
            "linecolor": "white",
            "showbackground": true,
            "ticks": "",
            "zerolinecolor": "white"
           },
           "zaxis": {
            "backgroundcolor": "#E5ECF6",
            "gridcolor": "white",
            "gridwidth": 2,
            "linecolor": "white",
            "showbackground": true,
            "ticks": "",
            "zerolinecolor": "white"
           }
          },
          "shapedefaults": {
           "line": {
            "color": "#2a3f5f"
           }
          },
          "ternary": {
           "aaxis": {
            "gridcolor": "white",
            "linecolor": "white",
            "ticks": ""
           },
           "baxis": {
            "gridcolor": "white",
            "linecolor": "white",
            "ticks": ""
           },
           "bgcolor": "#E5ECF6",
           "caxis": {
            "gridcolor": "white",
            "linecolor": "white",
            "ticks": ""
           }
          },
          "title": {
           "x": 0.05
          },
          "xaxis": {
           "automargin": true,
           "gridcolor": "white",
           "linecolor": "white",
           "ticks": "",
           "title": {
            "standoff": 15
           },
           "zerolinecolor": "white",
           "zerolinewidth": 2
          },
          "yaxis": {
           "automargin": true,
           "gridcolor": "white",
           "linecolor": "white",
           "ticks": "",
           "title": {
            "standoff": 15
           },
           "zerolinecolor": "white",
           "zerolinewidth": 2
          }
         }
        },
        "xaxis": {
         "anchor": "y",
         "domain": [
          0,
          1
         ],
         "title": {
          "text": "Age"
         }
        },
        "yaxis": {
         "anchor": "x",
         "domain": [
          0,
          1
         ],
         "title": {
          "text": "count"
         }
        }
       }
      }
     },
     "metadata": {},
     "output_type": "display_data"
    }
   ],
   "source": [
    "px.histogram(is_df, x='Age', height=800)"
   ]
  },
  {
   "cell_type": "markdown",
   "metadata": {},
   "source": [
    "### 1.2.2. Frames Data"
   ]
  },
  {
   "cell_type": "markdown",
   "metadata": {},
   "source": [
    "### 1.2.3. Movement Data"
   ]
  },
  {
   "cell_type": "markdown",
   "metadata": {},
   "source": [
    "### 1.2.4. Traffic Data"
   ]
  },
  {
   "cell_type": "code",
   "execution_count": 54,
   "metadata": {},
   "outputs": [
    {
     "name": "stdout",
     "output_type": "stream",
     "text": [
      "Statistical Description of participant 1 - fast Movement\n"
     ]
    },
    {
     "data": {
      "text/html": [
       "<div>\n",
       "<style scoped>\n",
       "    .dataframe tbody tr th:only-of-type {\n",
       "        vertical-align: middle;\n",
       "    }\n",
       "\n",
       "    .dataframe tbody tr th {\n",
       "        vertical-align: top;\n",
       "    }\n",
       "\n",
       "    .dataframe thead th {\n",
       "        text-align: right;\n",
       "    }\n",
       "</style>\n",
       "<table border=\"1\" class=\"dataframe\">\n",
       "  <thead>\n",
       "    <tr style=\"text-align: right;\">\n",
       "      <th></th>\n",
       "      <th>HeadPosX</th>\n",
       "      <th>HeadPosY</th>\n",
       "      <th>HeadPosZ</th>\n",
       "      <th>HeadOrientationW</th>\n",
       "      <th>HeadOrientationX</th>\n",
       "      <th>HeadOrientationY</th>\n",
       "      <th>HeadOrientationZ</th>\n",
       "      <th>time</th>\n",
       "    </tr>\n",
       "  </thead>\n",
       "  <tbody>\n",
       "    <tr>\n",
       "      <th>count</th>\n",
       "      <td>73871.000000</td>\n",
       "      <td>73871.000000</td>\n",
       "      <td>73871.000000</td>\n",
       "      <td>73871.000000</td>\n",
       "      <td>73871.000000</td>\n",
       "      <td>73871.000000</td>\n",
       "      <td>73871.000000</td>\n",
       "      <td>73871.000000</td>\n",
       "    </tr>\n",
       "    <tr>\n",
       "      <th>mean</th>\n",
       "      <td>-0.073011</td>\n",
       "      <td>1.419461</td>\n",
       "      <td>-0.133501</td>\n",
       "      <td>0.853448</td>\n",
       "      <td>0.004862</td>\n",
       "      <td>-0.168108</td>\n",
       "      <td>0.026216</td>\n",
       "      <td>616.093601</td>\n",
       "    </tr>\n",
       "    <tr>\n",
       "      <th>std</th>\n",
       "      <td>0.159273</td>\n",
       "      <td>0.061764</td>\n",
       "      <td>0.258087</td>\n",
       "      <td>0.338726</td>\n",
       "      <td>0.042083</td>\n",
       "      <td>0.354022</td>\n",
       "      <td>0.028707</td>\n",
       "      <td>355.707639</td>\n",
       "    </tr>\n",
       "    <tr>\n",
       "      <th>min</th>\n",
       "      <td>-0.638000</td>\n",
       "      <td>0.735000</td>\n",
       "      <td>-0.990000</td>\n",
       "      <td>-0.797000</td>\n",
       "      <td>-0.481000</td>\n",
       "      <td>-1.000000</td>\n",
       "      <td>-0.232000</td>\n",
       "      <td>0.000000</td>\n",
       "    </tr>\n",
       "    <tr>\n",
       "      <th>25%</th>\n",
       "      <td>-0.179000</td>\n",
       "      <td>1.421000</td>\n",
       "      <td>-0.351000</td>\n",
       "      <td>0.953000</td>\n",
       "      <td>-0.018000</td>\n",
       "      <td>-0.245000</td>\n",
       "      <td>0.015000</td>\n",
       "      <td>308.040500</td>\n",
       "    </tr>\n",
       "    <tr>\n",
       "      <th>50%</th>\n",
       "      <td>-0.071000</td>\n",
       "      <td>1.429000</td>\n",
       "      <td>-0.071000</td>\n",
       "      <td>0.992000</td>\n",
       "      <td>0.002000</td>\n",
       "      <td>-0.025000</td>\n",
       "      <td>0.028000</td>\n",
       "      <td>616.097000</td>\n",
       "    </tr>\n",
       "    <tr>\n",
       "      <th>75%</th>\n",
       "      <td>0.019000</td>\n",
       "      <td>1.435000</td>\n",
       "      <td>0.107000</td>\n",
       "      <td>0.998000</td>\n",
       "      <td>0.023000</td>\n",
       "      <td>0.040000</td>\n",
       "      <td>0.041000</td>\n",
       "      <td>924.138000</td>\n",
       "    </tr>\n",
       "    <tr>\n",
       "      <th>max</th>\n",
       "      <td>0.568000</td>\n",
       "      <td>1.479000</td>\n",
       "      <td>0.393000</td>\n",
       "      <td>1.000000</td>\n",
       "      <td>0.288000</td>\n",
       "      <td>0.752000</td>\n",
       "      <td>0.240000</td>\n",
       "      <td>1232.178000</td>\n",
       "    </tr>\n",
       "  </tbody>\n",
       "</table>\n",
       "</div>"
      ],
      "text/plain": [
       "           HeadPosX      HeadPosY      HeadPosZ  HeadOrientationW  \\\n",
       "count  73871.000000  73871.000000  73871.000000      73871.000000   \n",
       "mean      -0.073011      1.419461     -0.133501          0.853448   \n",
       "std        0.159273      0.061764      0.258087          0.338726   \n",
       "min       -0.638000      0.735000     -0.990000         -0.797000   \n",
       "25%       -0.179000      1.421000     -0.351000          0.953000   \n",
       "50%       -0.071000      1.429000     -0.071000          0.992000   \n",
       "75%        0.019000      1.435000      0.107000          0.998000   \n",
       "max        0.568000      1.479000      0.393000          1.000000   \n",
       "\n",
       "       HeadOrientationX  HeadOrientationY  HeadOrientationZ          time  \n",
       "count      73871.000000      73871.000000      73871.000000  73871.000000  \n",
       "mean           0.004862         -0.168108          0.026216    616.093601  \n",
       "std            0.042083          0.354022          0.028707    355.707639  \n",
       "min           -0.481000         -1.000000         -0.232000      0.000000  \n",
       "25%           -0.018000         -0.245000          0.015000    308.040500  \n",
       "50%            0.002000         -0.025000          0.028000    616.097000  \n",
       "75%            0.023000          0.040000          0.041000    924.138000  \n",
       "max            0.288000          0.752000          0.240000   1232.178000  "
      ]
     },
     "metadata": {},
     "output_type": "display_data"
    },
    {
     "name": "stdout",
     "output_type": "stream",
     "text": [
      "Statistical Description of participant 1 - slow Movement\n"
     ]
    },
    {
     "data": {
      "text/html": [
       "<div>\n",
       "<style scoped>\n",
       "    .dataframe tbody tr th:only-of-type {\n",
       "        vertical-align: middle;\n",
       "    }\n",
       "\n",
       "    .dataframe tbody tr th {\n",
       "        vertical-align: top;\n",
       "    }\n",
       "\n",
       "    .dataframe thead th {\n",
       "        text-align: right;\n",
       "    }\n",
       "</style>\n",
       "<table border=\"1\" class=\"dataframe\">\n",
       "  <thead>\n",
       "    <tr style=\"text-align: right;\">\n",
       "      <th></th>\n",
       "      <th>HeadPosX</th>\n",
       "      <th>HeadPosY</th>\n",
       "      <th>HeadPosZ</th>\n",
       "      <th>HeadOrientationW</th>\n",
       "      <th>HeadOrientationX</th>\n",
       "      <th>HeadOrientationY</th>\n",
       "      <th>HeadOrientationZ</th>\n",
       "      <th>time</th>\n",
       "    </tr>\n",
       "  </thead>\n",
       "  <tbody>\n",
       "    <tr>\n",
       "      <th>count</th>\n",
       "      <td>79913.000000</td>\n",
       "      <td>79913.000000</td>\n",
       "      <td>79913.000000</td>\n",
       "      <td>79913.000000</td>\n",
       "      <td>79913.000000</td>\n",
       "      <td>79913.000000</td>\n",
       "      <td>79913.000000</td>\n",
       "      <td>79913.000000</td>\n",
       "    </tr>\n",
       "    <tr>\n",
       "      <th>mean</th>\n",
       "      <td>0.082856</td>\n",
       "      <td>1.401169</td>\n",
       "      <td>0.667330</td>\n",
       "      <td>-0.136351</td>\n",
       "      <td>0.032191</td>\n",
       "      <td>0.905499</td>\n",
       "      <td>0.095999</td>\n",
       "      <td>666.467389</td>\n",
       "    </tr>\n",
       "    <tr>\n",
       "      <th>std</th>\n",
       "      <td>0.208084</td>\n",
       "      <td>0.087422</td>\n",
       "      <td>0.219664</td>\n",
       "      <td>0.329357</td>\n",
       "      <td>0.088946</td>\n",
       "      <td>0.115421</td>\n",
       "      <td>0.146681</td>\n",
       "      <td>384.800830</td>\n",
       "    </tr>\n",
       "    <tr>\n",
       "      <th>min</th>\n",
       "      <td>-0.616000</td>\n",
       "      <td>0.690000</td>\n",
       "      <td>0.071000</td>\n",
       "      <td>-0.914000</td>\n",
       "      <td>-0.242000</td>\n",
       "      <td>0.405000</td>\n",
       "      <td>-0.278000</td>\n",
       "      <td>0.000000</td>\n",
       "    </tr>\n",
       "    <tr>\n",
       "      <th>25%</th>\n",
       "      <td>-0.018000</td>\n",
       "      <td>1.397000</td>\n",
       "      <td>0.598000</td>\n",
       "      <td>-0.355000</td>\n",
       "      <td>-0.018000</td>\n",
       "      <td>0.896000</td>\n",
       "      <td>-0.041000</td>\n",
       "      <td>333.216000</td>\n",
       "    </tr>\n",
       "    <tr>\n",
       "      <th>50%</th>\n",
       "      <td>0.119000</td>\n",
       "      <td>1.414000</td>\n",
       "      <td>0.742000</td>\n",
       "      <td>-0.129000</td>\n",
       "      <td>0.019000</td>\n",
       "      <td>0.948000</td>\n",
       "      <td>0.132000</td>\n",
       "      <td>666.450000</td>\n",
       "    </tr>\n",
       "    <tr>\n",
       "      <th>75%</th>\n",
       "      <td>0.229000</td>\n",
       "      <td>1.438000</td>\n",
       "      <td>0.805000</td>\n",
       "      <td>0.103000</td>\n",
       "      <td>0.063000</td>\n",
       "      <td>0.975000</td>\n",
       "      <td>0.208000</td>\n",
       "      <td>999.718000</td>\n",
       "    </tr>\n",
       "    <tr>\n",
       "      <th>max</th>\n",
       "      <td>0.678000</td>\n",
       "      <td>1.546000</td>\n",
       "      <td>1.104000</td>\n",
       "      <td>0.687000</td>\n",
       "      <td>0.444000</td>\n",
       "      <td>1.000000</td>\n",
       "      <td>0.490000</td>\n",
       "      <td>1332.952000</td>\n",
       "    </tr>\n",
       "  </tbody>\n",
       "</table>\n",
       "</div>"
      ],
      "text/plain": [
       "           HeadPosX      HeadPosY      HeadPosZ  HeadOrientationW  \\\n",
       "count  79913.000000  79913.000000  79913.000000      79913.000000   \n",
       "mean       0.082856      1.401169      0.667330         -0.136351   \n",
       "std        0.208084      0.087422      0.219664          0.329357   \n",
       "min       -0.616000      0.690000      0.071000         -0.914000   \n",
       "25%       -0.018000      1.397000      0.598000         -0.355000   \n",
       "50%        0.119000      1.414000      0.742000         -0.129000   \n",
       "75%        0.229000      1.438000      0.805000          0.103000   \n",
       "max        0.678000      1.546000      1.104000          0.687000   \n",
       "\n",
       "       HeadOrientationX  HeadOrientationY  HeadOrientationZ          time  \n",
       "count      79913.000000      79913.000000      79913.000000  79913.000000  \n",
       "mean           0.032191          0.905499          0.095999    666.467389  \n",
       "std            0.088946          0.115421          0.146681    384.800830  \n",
       "min           -0.242000          0.405000         -0.278000      0.000000  \n",
       "25%           -0.018000          0.896000         -0.041000    333.216000  \n",
       "50%            0.019000          0.948000          0.132000    666.450000  \n",
       "75%            0.063000          0.975000          0.208000    999.718000  \n",
       "max            0.444000          1.000000          0.490000   1332.952000  "
      ]
     },
     "metadata": {},
     "output_type": "display_data"
    },
    {
     "name": "stdout",
     "output_type": "stream",
     "text": [
      "Statistical Description of participant 2 - fast Movement\n"
     ]
    },
    {
     "data": {
      "text/html": [
       "<div>\n",
       "<style scoped>\n",
       "    .dataframe tbody tr th:only-of-type {\n",
       "        vertical-align: middle;\n",
       "    }\n",
       "\n",
       "    .dataframe tbody tr th {\n",
       "        vertical-align: top;\n",
       "    }\n",
       "\n",
       "    .dataframe thead th {\n",
       "        text-align: right;\n",
       "    }\n",
       "</style>\n",
       "<table border=\"1\" class=\"dataframe\">\n",
       "  <thead>\n",
       "    <tr style=\"text-align: right;\">\n",
       "      <th></th>\n",
       "      <th>HeadPosX</th>\n",
       "      <th>HeadPosY</th>\n",
       "      <th>HeadPosZ</th>\n",
       "      <th>HeadOrientationW</th>\n",
       "      <th>HeadOrientationX</th>\n",
       "      <th>HeadOrientationY</th>\n",
       "      <th>HeadOrientationZ</th>\n",
       "      <th>time</th>\n",
       "    </tr>\n",
       "  </thead>\n",
       "  <tbody>\n",
       "    <tr>\n",
       "      <th>count</th>\n",
       "      <td>69422.000000</td>\n",
       "      <td>69422.000000</td>\n",
       "      <td>69422.000000</td>\n",
       "      <td>69422.000000</td>\n",
       "      <td>69422.000000</td>\n",
       "      <td>69422.000000</td>\n",
       "      <td>69422.000000</td>\n",
       "      <td>69422.000000</td>\n",
       "    </tr>\n",
       "    <tr>\n",
       "      <th>mean</th>\n",
       "      <td>-0.012797</td>\n",
       "      <td>1.475351</td>\n",
       "      <td>-0.038835</td>\n",
       "      <td>0.852061</td>\n",
       "      <td>-0.074982</td>\n",
       "      <td>-0.167686</td>\n",
       "      <td>-0.012848</td>\n",
       "      <td>578.961114</td>\n",
       "    </tr>\n",
       "    <tr>\n",
       "      <th>std</th>\n",
       "      <td>0.182488</td>\n",
       "      <td>0.230942</td>\n",
       "      <td>0.158999</td>\n",
       "      <td>0.337979</td>\n",
       "      <td>0.065435</td>\n",
       "      <td>0.345225</td>\n",
       "      <td>0.048956</td>\n",
       "      <td>334.261432</td>\n",
       "    </tr>\n",
       "    <tr>\n",
       "      <th>min</th>\n",
       "      <td>-1.848000</td>\n",
       "      <td>0.000000</td>\n",
       "      <td>-0.642000</td>\n",
       "      <td>-0.735000</td>\n",
       "      <td>-0.897000</td>\n",
       "      <td>-0.999000</td>\n",
       "      <td>-0.248000</td>\n",
       "      <td>0.000000</td>\n",
       "    </tr>\n",
       "    <tr>\n",
       "      <th>25%</th>\n",
       "      <td>-0.111000</td>\n",
       "      <td>1.502000</td>\n",
       "      <td>-0.149000</td>\n",
       "      <td>0.940000</td>\n",
       "      <td>-0.104000</td>\n",
       "      <td>-0.222000</td>\n",
       "      <td>-0.034000</td>\n",
       "      <td>289.489250</td>\n",
       "    </tr>\n",
       "    <tr>\n",
       "      <th>50%</th>\n",
       "      <td>-0.038000</td>\n",
       "      <td>1.520000</td>\n",
       "      <td>-0.020000</td>\n",
       "      <td>0.991000</td>\n",
       "      <td>-0.082000</td>\n",
       "      <td>-0.018000</td>\n",
       "      <td>-0.004000</td>\n",
       "      <td>578.961500</td>\n",
       "    </tr>\n",
       "    <tr>\n",
       "      <th>75%</th>\n",
       "      <td>0.104000</td>\n",
       "      <td>1.533000</td>\n",
       "      <td>0.074000</td>\n",
       "      <td>0.996000</td>\n",
       "      <td>-0.053000</td>\n",
       "      <td>0.022000</td>\n",
       "      <td>0.011000</td>\n",
       "      <td>868.433750</td>\n",
       "    </tr>\n",
       "    <tr>\n",
       "      <th>max</th>\n",
       "      <td>0.789000</td>\n",
       "      <td>1.656000</td>\n",
       "      <td>0.725000</td>\n",
       "      <td>1.000000</td>\n",
       "      <td>0.370000</td>\n",
       "      <td>0.538000</td>\n",
       "      <td>0.598000</td>\n",
       "      <td>1157.923000</td>\n",
       "    </tr>\n",
       "  </tbody>\n",
       "</table>\n",
       "</div>"
      ],
      "text/plain": [
       "           HeadPosX      HeadPosY      HeadPosZ  HeadOrientationW  \\\n",
       "count  69422.000000  69422.000000  69422.000000      69422.000000   \n",
       "mean      -0.012797      1.475351     -0.038835          0.852061   \n",
       "std        0.182488      0.230942      0.158999          0.337979   \n",
       "min       -1.848000      0.000000     -0.642000         -0.735000   \n",
       "25%       -0.111000      1.502000     -0.149000          0.940000   \n",
       "50%       -0.038000      1.520000     -0.020000          0.991000   \n",
       "75%        0.104000      1.533000      0.074000          0.996000   \n",
       "max        0.789000      1.656000      0.725000          1.000000   \n",
       "\n",
       "       HeadOrientationX  HeadOrientationY  HeadOrientationZ          time  \n",
       "count      69422.000000      69422.000000      69422.000000  69422.000000  \n",
       "mean          -0.074982         -0.167686         -0.012848    578.961114  \n",
       "std            0.065435          0.345225          0.048956    334.261432  \n",
       "min           -0.897000         -0.999000         -0.248000      0.000000  \n",
       "25%           -0.104000         -0.222000         -0.034000    289.489250  \n",
       "50%           -0.082000         -0.018000         -0.004000    578.961500  \n",
       "75%           -0.053000          0.022000          0.011000    868.433750  \n",
       "max            0.370000          0.538000          0.598000   1157.923000  "
      ]
     },
     "metadata": {},
     "output_type": "display_data"
    },
    {
     "name": "stdout",
     "output_type": "stream",
     "text": [
      "Statistical Description of participant 2 - slow Movement\n"
     ]
    },
    {
     "data": {
      "text/html": [
       "<div>\n",
       "<style scoped>\n",
       "    .dataframe tbody tr th:only-of-type {\n",
       "        vertical-align: middle;\n",
       "    }\n",
       "\n",
       "    .dataframe tbody tr th {\n",
       "        vertical-align: top;\n",
       "    }\n",
       "\n",
       "    .dataframe thead th {\n",
       "        text-align: right;\n",
       "    }\n",
       "</style>\n",
       "<table border=\"1\" class=\"dataframe\">\n",
       "  <thead>\n",
       "    <tr style=\"text-align: right;\">\n",
       "      <th></th>\n",
       "      <th>HeadPosX</th>\n",
       "      <th>HeadPosY</th>\n",
       "      <th>HeadPosZ</th>\n",
       "      <th>HeadOrientationW</th>\n",
       "      <th>HeadOrientationX</th>\n",
       "      <th>HeadOrientationY</th>\n",
       "      <th>HeadOrientationZ</th>\n",
       "      <th>time</th>\n",
       "    </tr>\n",
       "  </thead>\n",
       "  <tbody>\n",
       "    <tr>\n",
       "      <th>count</th>\n",
       "      <td>55444.000000</td>\n",
       "      <td>55444.000000</td>\n",
       "      <td>55444.000000</td>\n",
       "      <td>55444.000000</td>\n",
       "      <td>55444.000000</td>\n",
       "      <td>55444.000000</td>\n",
       "      <td>55444.000000</td>\n",
       "      <td>55444.000000</td>\n",
       "    </tr>\n",
       "    <tr>\n",
       "      <th>mean</th>\n",
       "      <td>-0.117749</td>\n",
       "      <td>1.436281</td>\n",
       "      <td>-0.174450</td>\n",
       "      <td>-0.451855</td>\n",
       "      <td>0.111716</td>\n",
       "      <td>-0.437905</td>\n",
       "      <td>-0.098536</td>\n",
       "      <td>497.222756</td>\n",
       "    </tr>\n",
       "    <tr>\n",
       "      <th>std</th>\n",
       "      <td>0.572471</td>\n",
       "      <td>0.189291</td>\n",
       "      <td>0.431202</td>\n",
       "      <td>0.436453</td>\n",
       "      <td>0.144541</td>\n",
       "      <td>0.581953</td>\n",
       "      <td>0.178423</td>\n",
       "      <td>266.966421</td>\n",
       "    </tr>\n",
       "    <tr>\n",
       "      <th>min</th>\n",
       "      <td>-1.321000</td>\n",
       "      <td>0.602000</td>\n",
       "      <td>-0.925000</td>\n",
       "      <td>-0.998000</td>\n",
       "      <td>-0.628000</td>\n",
       "      <td>-1.000000</td>\n",
       "      <td>-0.820000</td>\n",
       "      <td>34.873000</td>\n",
       "    </tr>\n",
       "    <tr>\n",
       "      <th>25%</th>\n",
       "      <td>-0.658000</td>\n",
       "      <td>1.451000</td>\n",
       "      <td>-0.520000</td>\n",
       "      <td>-0.706000</td>\n",
       "      <td>0.004000</td>\n",
       "      <td>-0.803000</td>\n",
       "      <td>-0.242000</td>\n",
       "      <td>266.026750</td>\n",
       "    </tr>\n",
       "    <tr>\n",
       "      <th>50%</th>\n",
       "      <td>0.105000</td>\n",
       "      <td>1.487000</td>\n",
       "      <td>-0.295000</td>\n",
       "      <td>-0.593000</td>\n",
       "      <td>0.141000</td>\n",
       "      <td>-0.727000</td>\n",
       "      <td>-0.130000</td>\n",
       "      <td>497.230000</td>\n",
       "    </tr>\n",
       "    <tr>\n",
       "      <th>75%</th>\n",
       "      <td>0.334000</td>\n",
       "      <td>1.521000</td>\n",
       "      <td>0.216000</td>\n",
       "      <td>-0.388000</td>\n",
       "      <td>0.214000</td>\n",
       "      <td>0.000250</td>\n",
       "      <td>0.041000</td>\n",
       "      <td>728.416250</td>\n",
       "    </tr>\n",
       "    <tr>\n",
       "      <th>max</th>\n",
       "      <td>0.885000</td>\n",
       "      <td>1.585000</td>\n",
       "      <td>0.994000</td>\n",
       "      <td>0.855000</td>\n",
       "      <td>0.686000</td>\n",
       "      <td>1.000000</td>\n",
       "      <td>0.333000</td>\n",
       "      <td>959.653000</td>\n",
       "    </tr>\n",
       "  </tbody>\n",
       "</table>\n",
       "</div>"
      ],
      "text/plain": [
       "           HeadPosX      HeadPosY      HeadPosZ  HeadOrientationW  \\\n",
       "count  55444.000000  55444.000000  55444.000000      55444.000000   \n",
       "mean      -0.117749      1.436281     -0.174450         -0.451855   \n",
       "std        0.572471      0.189291      0.431202          0.436453   \n",
       "min       -1.321000      0.602000     -0.925000         -0.998000   \n",
       "25%       -0.658000      1.451000     -0.520000         -0.706000   \n",
       "50%        0.105000      1.487000     -0.295000         -0.593000   \n",
       "75%        0.334000      1.521000      0.216000         -0.388000   \n",
       "max        0.885000      1.585000      0.994000          0.855000   \n",
       "\n",
       "       HeadOrientationX  HeadOrientationY  HeadOrientationZ          time  \n",
       "count      55444.000000      55444.000000      55444.000000  55444.000000  \n",
       "mean           0.111716         -0.437905         -0.098536    497.222756  \n",
       "std            0.144541          0.581953          0.178423    266.966421  \n",
       "min           -0.628000         -1.000000         -0.820000     34.873000  \n",
       "25%            0.004000         -0.803000         -0.242000    266.026750  \n",
       "50%            0.141000         -0.727000         -0.130000    497.230000  \n",
       "75%            0.214000          0.000250          0.041000    728.416250  \n",
       "max            0.686000          1.000000          0.333000    959.653000  "
      ]
     },
     "metadata": {},
     "output_type": "display_data"
    },
    {
     "name": "stdout",
     "output_type": "stream",
     "text": [
      "Statistical Description of participant 3 - fast Movement\n"
     ]
    },
    {
     "data": {
      "text/html": [
       "<div>\n",
       "<style scoped>\n",
       "    .dataframe tbody tr th:only-of-type {\n",
       "        vertical-align: middle;\n",
       "    }\n",
       "\n",
       "    .dataframe tbody tr th {\n",
       "        vertical-align: top;\n",
       "    }\n",
       "\n",
       "    .dataframe thead th {\n",
       "        text-align: right;\n",
       "    }\n",
       "</style>\n",
       "<table border=\"1\" class=\"dataframe\">\n",
       "  <thead>\n",
       "    <tr style=\"text-align: right;\">\n",
       "      <th></th>\n",
       "      <th>HeadPosX</th>\n",
       "      <th>HeadPosY</th>\n",
       "      <th>HeadPosZ</th>\n",
       "      <th>HeadOrientationW</th>\n",
       "      <th>HeadOrientationX</th>\n",
       "      <th>HeadOrientationY</th>\n",
       "      <th>HeadOrientationZ</th>\n",
       "      <th>time</th>\n",
       "    </tr>\n",
       "  </thead>\n",
       "  <tbody>\n",
       "    <tr>\n",
       "      <th>count</th>\n",
       "      <td>65618.000000</td>\n",
       "      <td>65618.000000</td>\n",
       "      <td>65618.000000</td>\n",
       "      <td>65618.000000</td>\n",
       "      <td>65618.000000</td>\n",
       "      <td>65618.000000</td>\n",
       "      <td>65618.000000</td>\n",
       "      <td>65618.000000</td>\n",
       "    </tr>\n",
       "    <tr>\n",
       "      <th>mean</th>\n",
       "      <td>0.059768</td>\n",
       "      <td>1.645056</td>\n",
       "      <td>-0.348529</td>\n",
       "      <td>0.851493</td>\n",
       "      <td>-0.040626</td>\n",
       "      <td>-0.176594</td>\n",
       "      <td>0.045702</td>\n",
       "      <td>547.228413</td>\n",
       "    </tr>\n",
       "    <tr>\n",
       "      <th>std</th>\n",
       "      <td>0.182366</td>\n",
       "      <td>0.069553</td>\n",
       "      <td>0.315707</td>\n",
       "      <td>0.336984</td>\n",
       "      <td>0.052013</td>\n",
       "      <td>0.349937</td>\n",
       "      <td>0.036278</td>\n",
       "      <td>315.946138</td>\n",
       "    </tr>\n",
       "    <tr>\n",
       "      <th>min</th>\n",
       "      <td>-0.594000</td>\n",
       "      <td>0.946000</td>\n",
       "      <td>-1.042000</td>\n",
       "      <td>-0.722000</td>\n",
       "      <td>-0.614000</td>\n",
       "      <td>-0.999000</td>\n",
       "      <td>-0.219000</td>\n",
       "      <td>0.006000</td>\n",
       "    </tr>\n",
       "    <tr>\n",
       "      <th>25%</th>\n",
       "      <td>-0.058000</td>\n",
       "      <td>1.648000</td>\n",
       "      <td>-0.607000</td>\n",
       "      <td>0.936000</td>\n",
       "      <td>-0.063000</td>\n",
       "      <td>-0.251000</td>\n",
       "      <td>0.031000</td>\n",
       "      <td>273.620250</td>\n",
       "    </tr>\n",
       "    <tr>\n",
       "      <th>50%</th>\n",
       "      <td>0.026000</td>\n",
       "      <td>1.656000</td>\n",
       "      <td>-0.386000</td>\n",
       "      <td>0.992000</td>\n",
       "      <td>-0.034000</td>\n",
       "      <td>-0.025000</td>\n",
       "      <td>0.052000</td>\n",
       "      <td>547.229500</td>\n",
       "    </tr>\n",
       "    <tr>\n",
       "      <th>75%</th>\n",
       "      <td>0.171000</td>\n",
       "      <td>1.661000</td>\n",
       "      <td>-0.106000</td>\n",
       "      <td>0.997000</td>\n",
       "      <td>-0.012000</td>\n",
       "      <td>0.025000</td>\n",
       "      <td>0.070000</td>\n",
       "      <td>820.838750</td>\n",
       "    </tr>\n",
       "    <tr>\n",
       "      <th>max</th>\n",
       "      <td>0.658000</td>\n",
       "      <td>1.698000</td>\n",
       "      <td>0.559000</td>\n",
       "      <td>1.000000</td>\n",
       "      <td>0.135000</td>\n",
       "      <td>0.593000</td>\n",
       "      <td>0.194000</td>\n",
       "      <td>1094.449000</td>\n",
       "    </tr>\n",
       "  </tbody>\n",
       "</table>\n",
       "</div>"
      ],
      "text/plain": [
       "           HeadPosX      HeadPosY      HeadPosZ  HeadOrientationW  \\\n",
       "count  65618.000000  65618.000000  65618.000000      65618.000000   \n",
       "mean       0.059768      1.645056     -0.348529          0.851493   \n",
       "std        0.182366      0.069553      0.315707          0.336984   \n",
       "min       -0.594000      0.946000     -1.042000         -0.722000   \n",
       "25%       -0.058000      1.648000     -0.607000          0.936000   \n",
       "50%        0.026000      1.656000     -0.386000          0.992000   \n",
       "75%        0.171000      1.661000     -0.106000          0.997000   \n",
       "max        0.658000      1.698000      0.559000          1.000000   \n",
       "\n",
       "       HeadOrientationX  HeadOrientationY  HeadOrientationZ          time  \n",
       "count      65618.000000      65618.000000      65618.000000  65618.000000  \n",
       "mean          -0.040626         -0.176594          0.045702    547.228413  \n",
       "std            0.052013          0.349937          0.036278    315.946138  \n",
       "min           -0.614000         -0.999000         -0.219000      0.006000  \n",
       "25%           -0.063000         -0.251000          0.031000    273.620250  \n",
       "50%           -0.034000         -0.025000          0.052000    547.229500  \n",
       "75%           -0.012000          0.025000          0.070000    820.838750  \n",
       "max            0.135000          0.593000          0.194000   1094.449000  "
      ]
     },
     "metadata": {},
     "output_type": "display_data"
    },
    {
     "name": "stdout",
     "output_type": "stream",
     "text": [
      "Statistical Description of participant 3 - slow Movement\n"
     ]
    },
    {
     "data": {
      "text/html": [
       "<div>\n",
       "<style scoped>\n",
       "    .dataframe tbody tr th:only-of-type {\n",
       "        vertical-align: middle;\n",
       "    }\n",
       "\n",
       "    .dataframe tbody tr th {\n",
       "        vertical-align: top;\n",
       "    }\n",
       "\n",
       "    .dataframe thead th {\n",
       "        text-align: right;\n",
       "    }\n",
       "</style>\n",
       "<table border=\"1\" class=\"dataframe\">\n",
       "  <thead>\n",
       "    <tr style=\"text-align: right;\">\n",
       "      <th></th>\n",
       "      <th>HeadPosX</th>\n",
       "      <th>HeadPosY</th>\n",
       "      <th>HeadPosZ</th>\n",
       "      <th>HeadOrientationW</th>\n",
       "      <th>HeadOrientationX</th>\n",
       "      <th>HeadOrientationY</th>\n",
       "      <th>HeadOrientationZ</th>\n",
       "      <th>time</th>\n",
       "    </tr>\n",
       "  </thead>\n",
       "  <tbody>\n",
       "    <tr>\n",
       "      <th>count</th>\n",
       "      <td>37148.000000</td>\n",
       "      <td>37148.000000</td>\n",
       "      <td>37148.000000</td>\n",
       "      <td>37148.000000</td>\n",
       "      <td>37148.000000</td>\n",
       "      <td>37148.000000</td>\n",
       "      <td>37148.000000</td>\n",
       "      <td>37148.000000</td>\n",
       "    </tr>\n",
       "    <tr>\n",
       "      <th>mean</th>\n",
       "      <td>-0.318917</td>\n",
       "      <td>1.562906</td>\n",
       "      <td>-0.257345</td>\n",
       "      <td>0.879954</td>\n",
       "      <td>-0.202073</td>\n",
       "      <td>-0.270173</td>\n",
       "      <td>-0.030043</td>\n",
       "      <td>309.804590</td>\n",
       "    </tr>\n",
       "    <tr>\n",
       "      <th>std</th>\n",
       "      <td>0.103610</td>\n",
       "      <td>0.155403</td>\n",
       "      <td>0.087332</td>\n",
       "      <td>0.112355</td>\n",
       "      <td>0.177593</td>\n",
       "      <td>0.242836</td>\n",
       "      <td>0.088425</td>\n",
       "      <td>178.871974</td>\n",
       "    </tr>\n",
       "    <tr>\n",
       "      <th>min</th>\n",
       "      <td>-0.775000</td>\n",
       "      <td>0.000000</td>\n",
       "      <td>-1.577000</td>\n",
       "      <td>0.363000</td>\n",
       "      <td>-0.610000</td>\n",
       "      <td>-0.878000</td>\n",
       "      <td>-0.295000</td>\n",
       "      <td>0.006000</td>\n",
       "    </tr>\n",
       "    <tr>\n",
       "      <th>25%</th>\n",
       "      <td>-0.385000</td>\n",
       "      <td>1.527000</td>\n",
       "      <td>-0.288000</td>\n",
       "      <td>0.819750</td>\n",
       "      <td>-0.323000</td>\n",
       "      <td>-0.446000</td>\n",
       "      <td>-0.095000</td>\n",
       "      <td>154.900000</td>\n",
       "    </tr>\n",
       "    <tr>\n",
       "      <th>50%</th>\n",
       "      <td>-0.338000</td>\n",
       "      <td>1.584000</td>\n",
       "      <td>-0.252000</td>\n",
       "      <td>0.926000</td>\n",
       "      <td>-0.232000</td>\n",
       "      <td>-0.266000</td>\n",
       "      <td>0.000000</td>\n",
       "      <td>309.812000</td>\n",
       "    </tr>\n",
       "    <tr>\n",
       "      <th>75%</th>\n",
       "      <td>-0.248000</td>\n",
       "      <td>1.647000</td>\n",
       "      <td>-0.219000</td>\n",
       "      <td>0.962000</td>\n",
       "      <td>-0.048000</td>\n",
       "      <td>-0.111000</td>\n",
       "      <td>0.034000</td>\n",
       "      <td>464.707250</td>\n",
       "    </tr>\n",
       "    <tr>\n",
       "      <th>max</th>\n",
       "      <td>0.000000</td>\n",
       "      <td>1.705000</td>\n",
       "      <td>0.000000</td>\n",
       "      <td>1.000000</td>\n",
       "      <td>0.166000</td>\n",
       "      <td>0.548000</td>\n",
       "      <td>0.277000</td>\n",
       "      <td>619.604000</td>\n",
       "    </tr>\n",
       "  </tbody>\n",
       "</table>\n",
       "</div>"
      ],
      "text/plain": [
       "           HeadPosX      HeadPosY      HeadPosZ  HeadOrientationW  \\\n",
       "count  37148.000000  37148.000000  37148.000000      37148.000000   \n",
       "mean      -0.318917      1.562906     -0.257345          0.879954   \n",
       "std        0.103610      0.155403      0.087332          0.112355   \n",
       "min       -0.775000      0.000000     -1.577000          0.363000   \n",
       "25%       -0.385000      1.527000     -0.288000          0.819750   \n",
       "50%       -0.338000      1.584000     -0.252000          0.926000   \n",
       "75%       -0.248000      1.647000     -0.219000          0.962000   \n",
       "max        0.000000      1.705000      0.000000          1.000000   \n",
       "\n",
       "       HeadOrientationX  HeadOrientationY  HeadOrientationZ          time  \n",
       "count      37148.000000      37148.000000      37148.000000  37148.000000  \n",
       "mean          -0.202073         -0.270173         -0.030043    309.804590  \n",
       "std            0.177593          0.242836          0.088425    178.871974  \n",
       "min           -0.610000         -0.878000         -0.295000      0.006000  \n",
       "25%           -0.323000         -0.446000         -0.095000    154.900000  \n",
       "50%           -0.232000         -0.266000          0.000000    309.812000  \n",
       "75%           -0.048000         -0.111000          0.034000    464.707250  \n",
       "max            0.166000          0.548000          0.277000    619.604000  "
      ]
     },
     "metadata": {},
     "output_type": "display_data"
    },
    {
     "name": "stdout",
     "output_type": "stream",
     "text": [
      "Statistical Description of participant 4 - fast Movement\n"
     ]
    },
    {
     "data": {
      "text/html": [
       "<div>\n",
       "<style scoped>\n",
       "    .dataframe tbody tr th:only-of-type {\n",
       "        vertical-align: middle;\n",
       "    }\n",
       "\n",
       "    .dataframe tbody tr th {\n",
       "        vertical-align: top;\n",
       "    }\n",
       "\n",
       "    .dataframe thead th {\n",
       "        text-align: right;\n",
       "    }\n",
       "</style>\n",
       "<table border=\"1\" class=\"dataframe\">\n",
       "  <thead>\n",
       "    <tr style=\"text-align: right;\">\n",
       "      <th></th>\n",
       "      <th>HeadPosX</th>\n",
       "      <th>HeadPosY</th>\n",
       "      <th>HeadPosZ</th>\n",
       "      <th>HeadOrientationW</th>\n",
       "      <th>HeadOrientationX</th>\n",
       "      <th>HeadOrientationY</th>\n",
       "      <th>HeadOrientationZ</th>\n",
       "      <th>time</th>\n",
       "    </tr>\n",
       "  </thead>\n",
       "  <tbody>\n",
       "    <tr>\n",
       "      <th>count</th>\n",
       "      <td>77739.000000</td>\n",
       "      <td>77739.000000</td>\n",
       "      <td>77739.000000</td>\n",
       "      <td>77739.000000</td>\n",
       "      <td>77739.000000</td>\n",
       "      <td>77739.000000</td>\n",
       "      <td>77739.000000</td>\n",
       "      <td>77739.000000</td>\n",
       "    </tr>\n",
       "    <tr>\n",
       "      <th>mean</th>\n",
       "      <td>-0.131216</td>\n",
       "      <td>1.528930</td>\n",
       "      <td>-1.006319</td>\n",
       "      <td>0.328650</td>\n",
       "      <td>-0.002120</td>\n",
       "      <td>-0.080795</td>\n",
       "      <td>-0.002716</td>\n",
       "      <td>648.364897</td>\n",
       "    </tr>\n",
       "    <tr>\n",
       "      <th>std</th>\n",
       "      <td>0.247557</td>\n",
       "      <td>0.081036</td>\n",
       "      <td>0.483521</td>\n",
       "      <td>0.833296</td>\n",
       "      <td>0.033337</td>\n",
       "      <td>0.435280</td>\n",
       "      <td>0.023378</td>\n",
       "      <td>374.344633</td>\n",
       "    </tr>\n",
       "    <tr>\n",
       "      <th>min</th>\n",
       "      <td>-1.176000</td>\n",
       "      <td>0.770000</td>\n",
       "      <td>-2.052000</td>\n",
       "      <td>-1.000000</td>\n",
       "      <td>-0.426000</td>\n",
       "      <td>-1.000000</td>\n",
       "      <td>-0.346000</td>\n",
       "      <td>0.000000</td>\n",
       "    </tr>\n",
       "    <tr>\n",
       "      <th>25%</th>\n",
       "      <td>-0.248000</td>\n",
       "      <td>1.521000</td>\n",
       "      <td>-1.426000</td>\n",
       "      <td>-0.747000</td>\n",
       "      <td>-0.018000</td>\n",
       "      <td>-0.204000</td>\n",
       "      <td>-0.012000</td>\n",
       "      <td>324.150500</td>\n",
       "    </tr>\n",
       "    <tr>\n",
       "      <th>50%</th>\n",
       "      <td>-0.111000</td>\n",
       "      <td>1.544000</td>\n",
       "      <td>-1.106000</td>\n",
       "      <td>0.879000</td>\n",
       "      <td>-0.001000</td>\n",
       "      <td>-0.013000</td>\n",
       "      <td>-0.002000</td>\n",
       "      <td>648.401000</td>\n",
       "    </tr>\n",
       "    <tr>\n",
       "      <th>75%</th>\n",
       "      <td>0.008000</td>\n",
       "      <td>1.557000</td>\n",
       "      <td>-0.532000</td>\n",
       "      <td>0.998000</td>\n",
       "      <td>0.016000</td>\n",
       "      <td>0.059000</td>\n",
       "      <td>0.008000</td>\n",
       "      <td>972.552500</td>\n",
       "    </tr>\n",
       "    <tr>\n",
       "      <th>max</th>\n",
       "      <td>0.792000</td>\n",
       "      <td>1.591000</td>\n",
       "      <td>0.097000</td>\n",
       "      <td>1.000000</td>\n",
       "      <td>0.287000</td>\n",
       "      <td>1.000000</td>\n",
       "      <td>0.144000</td>\n",
       "      <td>1296.704000</td>\n",
       "    </tr>\n",
       "  </tbody>\n",
       "</table>\n",
       "</div>"
      ],
      "text/plain": [
       "           HeadPosX      HeadPosY      HeadPosZ  HeadOrientationW  \\\n",
       "count  77739.000000  77739.000000  77739.000000      77739.000000   \n",
       "mean      -0.131216      1.528930     -1.006319          0.328650   \n",
       "std        0.247557      0.081036      0.483521          0.833296   \n",
       "min       -1.176000      0.770000     -2.052000         -1.000000   \n",
       "25%       -0.248000      1.521000     -1.426000         -0.747000   \n",
       "50%       -0.111000      1.544000     -1.106000          0.879000   \n",
       "75%        0.008000      1.557000     -0.532000          0.998000   \n",
       "max        0.792000      1.591000      0.097000          1.000000   \n",
       "\n",
       "       HeadOrientationX  HeadOrientationY  HeadOrientationZ          time  \n",
       "count      77739.000000      77739.000000      77739.000000  77739.000000  \n",
       "mean          -0.002120         -0.080795         -0.002716    648.364897  \n",
       "std            0.033337          0.435280          0.023378    374.344633  \n",
       "min           -0.426000         -1.000000         -0.346000      0.000000  \n",
       "25%           -0.018000         -0.204000         -0.012000    324.150500  \n",
       "50%           -0.001000         -0.013000         -0.002000    648.401000  \n",
       "75%            0.016000          0.059000          0.008000    972.552500  \n",
       "max            0.287000          1.000000          0.144000   1296.704000  "
      ]
     },
     "metadata": {},
     "output_type": "display_data"
    },
    {
     "name": "stdout",
     "output_type": "stream",
     "text": [
      "Statistical Description of participant 4 - slow Movement\n"
     ]
    },
    {
     "data": {
      "text/html": [
       "<div>\n",
       "<style scoped>\n",
       "    .dataframe tbody tr th:only-of-type {\n",
       "        vertical-align: middle;\n",
       "    }\n",
       "\n",
       "    .dataframe tbody tr th {\n",
       "        vertical-align: top;\n",
       "    }\n",
       "\n",
       "    .dataframe thead th {\n",
       "        text-align: right;\n",
       "    }\n",
       "</style>\n",
       "<table border=\"1\" class=\"dataframe\">\n",
       "  <thead>\n",
       "    <tr style=\"text-align: right;\">\n",
       "      <th></th>\n",
       "      <th>HeadPosX</th>\n",
       "      <th>HeadPosY</th>\n",
       "      <th>HeadPosZ</th>\n",
       "      <th>HeadOrientationW</th>\n",
       "      <th>HeadOrientationX</th>\n",
       "      <th>HeadOrientationY</th>\n",
       "      <th>HeadOrientationZ</th>\n",
       "      <th>time</th>\n",
       "    </tr>\n",
       "  </thead>\n",
       "  <tbody>\n",
       "    <tr>\n",
       "      <th>count</th>\n",
       "      <td>74327.000000</td>\n",
       "      <td>74327.000000</td>\n",
       "      <td>74327.000000</td>\n",
       "      <td>74327.000000</td>\n",
       "      <td>74327.000000</td>\n",
       "      <td>74327.000000</td>\n",
       "      <td>74327.000000</td>\n",
       "      <td>74327.000000</td>\n",
       "    </tr>\n",
       "    <tr>\n",
       "      <th>mean</th>\n",
       "      <td>-0.155172</td>\n",
       "      <td>1.472190</td>\n",
       "      <td>-0.023718</td>\n",
       "      <td>0.104574</td>\n",
       "      <td>0.015125</td>\n",
       "      <td>0.778556</td>\n",
       "      <td>0.083553</td>\n",
       "      <td>619.908630</td>\n",
       "    </tr>\n",
       "    <tr>\n",
       "      <th>std</th>\n",
       "      <td>0.201464</td>\n",
       "      <td>0.147104</td>\n",
       "      <td>0.240734</td>\n",
       "      <td>0.517105</td>\n",
       "      <td>0.104958</td>\n",
       "      <td>0.282938</td>\n",
       "      <td>0.131324</td>\n",
       "      <td>357.908962</td>\n",
       "    </tr>\n",
       "    <tr>\n",
       "      <th>min</th>\n",
       "      <td>-0.750000</td>\n",
       "      <td>0.643000</td>\n",
       "      <td>-1.257000</td>\n",
       "      <td>-1.000000</td>\n",
       "      <td>-0.367000</td>\n",
       "      <td>-0.910000</td>\n",
       "      <td>-0.264000</td>\n",
       "      <td>0.000000</td>\n",
       "    </tr>\n",
       "    <tr>\n",
       "      <th>25%</th>\n",
       "      <td>-0.277000</td>\n",
       "      <td>1.473000</td>\n",
       "      <td>-0.097000</td>\n",
       "      <td>-0.354000</td>\n",
       "      <td>-0.038000</td>\n",
       "      <td>0.745000</td>\n",
       "      <td>-0.015000</td>\n",
       "      <td>309.975000</td>\n",
       "    </tr>\n",
       "    <tr>\n",
       "      <th>50%</th>\n",
       "      <td>-0.128000</td>\n",
       "      <td>1.505000</td>\n",
       "      <td>-0.015000</td>\n",
       "      <td>0.010000</td>\n",
       "      <td>0.012000</td>\n",
       "      <td>0.876000</td>\n",
       "      <td>0.092000</td>\n",
       "      <td>619.900000</td>\n",
       "    </tr>\n",
       "    <tr>\n",
       "      <th>75%</th>\n",
       "      <td>-0.008000</td>\n",
       "      <td>1.537000</td>\n",
       "      <td>0.067000</td>\n",
       "      <td>0.574000</td>\n",
       "      <td>0.077000</td>\n",
       "      <td>0.955000</td>\n",
       "      <td>0.185000</td>\n",
       "      <td>929.874500</td>\n",
       "    </tr>\n",
       "    <tr>\n",
       "      <th>max</th>\n",
       "      <td>0.369000</td>\n",
       "      <td>1.597000</td>\n",
       "      <td>0.996000</td>\n",
       "      <td>1.000000</td>\n",
       "      <td>0.547000</td>\n",
       "      <td>1.000000</td>\n",
       "      <td>0.426000</td>\n",
       "      <td>1239.799000</td>\n",
       "    </tr>\n",
       "  </tbody>\n",
       "</table>\n",
       "</div>"
      ],
      "text/plain": [
       "           HeadPosX      HeadPosY      HeadPosZ  HeadOrientationW  \\\n",
       "count  74327.000000  74327.000000  74327.000000      74327.000000   \n",
       "mean      -0.155172      1.472190     -0.023718          0.104574   \n",
       "std        0.201464      0.147104      0.240734          0.517105   \n",
       "min       -0.750000      0.643000     -1.257000         -1.000000   \n",
       "25%       -0.277000      1.473000     -0.097000         -0.354000   \n",
       "50%       -0.128000      1.505000     -0.015000          0.010000   \n",
       "75%       -0.008000      1.537000      0.067000          0.574000   \n",
       "max        0.369000      1.597000      0.996000          1.000000   \n",
       "\n",
       "       HeadOrientationX  HeadOrientationY  HeadOrientationZ          time  \n",
       "count      74327.000000      74327.000000      74327.000000  74327.000000  \n",
       "mean           0.015125          0.778556          0.083553    619.908630  \n",
       "std            0.104958          0.282938          0.131324    357.908962  \n",
       "min           -0.367000         -0.910000         -0.264000      0.000000  \n",
       "25%           -0.038000          0.745000         -0.015000    309.975000  \n",
       "50%            0.012000          0.876000          0.092000    619.900000  \n",
       "75%            0.077000          0.955000          0.185000    929.874500  \n",
       "max            0.547000          1.000000          0.426000   1239.799000  "
      ]
     },
     "metadata": {},
     "output_type": "display_data"
    },
    {
     "name": "stdout",
     "output_type": "stream",
     "text": [
      "Statistical Description of participant 5 - fast Movement\n"
     ]
    },
    {
     "data": {
      "text/html": [
       "<div>\n",
       "<style scoped>\n",
       "    .dataframe tbody tr th:only-of-type {\n",
       "        vertical-align: middle;\n",
       "    }\n",
       "\n",
       "    .dataframe tbody tr th {\n",
       "        vertical-align: top;\n",
       "    }\n",
       "\n",
       "    .dataframe thead th {\n",
       "        text-align: right;\n",
       "    }\n",
       "</style>\n",
       "<table border=\"1\" class=\"dataframe\">\n",
       "  <thead>\n",
       "    <tr style=\"text-align: right;\">\n",
       "      <th></th>\n",
       "      <th>HeadPosX</th>\n",
       "      <th>HeadPosY</th>\n",
       "      <th>HeadPosZ</th>\n",
       "      <th>HeadOrientationW</th>\n",
       "      <th>HeadOrientationX</th>\n",
       "      <th>HeadOrientationY</th>\n",
       "      <th>HeadOrientationZ</th>\n",
       "      <th>time</th>\n",
       "    </tr>\n",
       "  </thead>\n",
       "  <tbody>\n",
       "    <tr>\n",
       "      <th>count</th>\n",
       "      <td>64000.000000</td>\n",
       "      <td>64000.000000</td>\n",
       "      <td>64000.000000</td>\n",
       "      <td>64000.000000</td>\n",
       "      <td>64000.000000</td>\n",
       "      <td>64000.000000</td>\n",
       "      <td>64000.000000</td>\n",
       "      <td>64000.000000</td>\n",
       "    </tr>\n",
       "    <tr>\n",
       "      <th>mean</th>\n",
       "      <td>0.109736</td>\n",
       "      <td>1.539494</td>\n",
       "      <td>0.139459</td>\n",
       "      <td>-0.851760</td>\n",
       "      <td>0.044997</td>\n",
       "      <td>0.164378</td>\n",
       "      <td>0.011917</td>\n",
       "      <td>533.738204</td>\n",
       "    </tr>\n",
       "    <tr>\n",
       "      <th>std</th>\n",
       "      <td>0.187034</td>\n",
       "      <td>0.057280</td>\n",
       "      <td>0.212747</td>\n",
       "      <td>0.341629</td>\n",
       "      <td>0.049120</td>\n",
       "      <td>0.353831</td>\n",
       "      <td>0.031744</td>\n",
       "      <td>308.153621</td>\n",
       "    </tr>\n",
       "    <tr>\n",
       "      <th>min</th>\n",
       "      <td>-0.603000</td>\n",
       "      <td>0.973000</td>\n",
       "      <td>-0.471000</td>\n",
       "      <td>-1.000000</td>\n",
       "      <td>-0.271000</td>\n",
       "      <td>-0.543000</td>\n",
       "      <td>-0.137000</td>\n",
       "      <td>0.014000</td>\n",
       "    </tr>\n",
       "    <tr>\n",
       "      <th>25%</th>\n",
       "      <td>-0.008000</td>\n",
       "      <td>1.543000</td>\n",
       "      <td>-0.037000</td>\n",
       "      <td>-0.997000</td>\n",
       "      <td>0.023000</td>\n",
       "      <td>-0.045000</td>\n",
       "      <td>-0.007000</td>\n",
       "      <td>266.875750</td>\n",
       "    </tr>\n",
       "    <tr>\n",
       "      <th>50%</th>\n",
       "      <td>0.087000</td>\n",
       "      <td>1.547000</td>\n",
       "      <td>0.137000</td>\n",
       "      <td>-0.994000</td>\n",
       "      <td>0.046000</td>\n",
       "      <td>0.009000</td>\n",
       "      <td>0.008000</td>\n",
       "      <td>533.738000</td>\n",
       "    </tr>\n",
       "    <tr>\n",
       "      <th>75%</th>\n",
       "      <td>0.212000</td>\n",
       "      <td>1.552000</td>\n",
       "      <td>0.314000</td>\n",
       "      <td>-0.939000</td>\n",
       "      <td>0.066000</td>\n",
       "      <td>0.242000</td>\n",
       "      <td>0.027000</td>\n",
       "      <td>800.601000</td>\n",
       "    </tr>\n",
       "    <tr>\n",
       "      <th>max</th>\n",
       "      <td>0.804000</td>\n",
       "      <td>1.602000</td>\n",
       "      <td>0.699000</td>\n",
       "      <td>0.780000</td>\n",
       "      <td>0.576000</td>\n",
       "      <td>1.000000</td>\n",
       "      <td>0.374000</td>\n",
       "      <td>1067.464000</td>\n",
       "    </tr>\n",
       "  </tbody>\n",
       "</table>\n",
       "</div>"
      ],
      "text/plain": [
       "           HeadPosX      HeadPosY      HeadPosZ  HeadOrientationW  \\\n",
       "count  64000.000000  64000.000000  64000.000000      64000.000000   \n",
       "mean       0.109736      1.539494      0.139459         -0.851760   \n",
       "std        0.187034      0.057280      0.212747          0.341629   \n",
       "min       -0.603000      0.973000     -0.471000         -1.000000   \n",
       "25%       -0.008000      1.543000     -0.037000         -0.997000   \n",
       "50%        0.087000      1.547000      0.137000         -0.994000   \n",
       "75%        0.212000      1.552000      0.314000         -0.939000   \n",
       "max        0.804000      1.602000      0.699000          0.780000   \n",
       "\n",
       "       HeadOrientationX  HeadOrientationY  HeadOrientationZ          time  \n",
       "count      64000.000000      64000.000000      64000.000000  64000.000000  \n",
       "mean           0.044997          0.164378          0.011917    533.738204  \n",
       "std            0.049120          0.353831          0.031744    308.153621  \n",
       "min           -0.271000         -0.543000         -0.137000      0.014000  \n",
       "25%            0.023000         -0.045000         -0.007000    266.875750  \n",
       "50%            0.046000          0.009000          0.008000    533.738000  \n",
       "75%            0.066000          0.242000          0.027000    800.601000  \n",
       "max            0.576000          1.000000          0.374000   1067.464000  "
      ]
     },
     "metadata": {},
     "output_type": "display_data"
    },
    {
     "name": "stdout",
     "output_type": "stream",
     "text": [
      "Statistical Description of participant 5 - slow Movement\n"
     ]
    },
    {
     "data": {
      "text/html": [
       "<div>\n",
       "<style scoped>\n",
       "    .dataframe tbody tr th:only-of-type {\n",
       "        vertical-align: middle;\n",
       "    }\n",
       "\n",
       "    .dataframe tbody tr th {\n",
       "        vertical-align: top;\n",
       "    }\n",
       "\n",
       "    .dataframe thead th {\n",
       "        text-align: right;\n",
       "    }\n",
       "</style>\n",
       "<table border=\"1\" class=\"dataframe\">\n",
       "  <thead>\n",
       "    <tr style=\"text-align: right;\">\n",
       "      <th></th>\n",
       "      <th>HeadPosX</th>\n",
       "      <th>HeadPosY</th>\n",
       "      <th>HeadPosZ</th>\n",
       "      <th>HeadOrientationW</th>\n",
       "      <th>HeadOrientationX</th>\n",
       "      <th>HeadOrientationY</th>\n",
       "      <th>HeadOrientationZ</th>\n",
       "      <th>time</th>\n",
       "    </tr>\n",
       "  </thead>\n",
       "  <tbody>\n",
       "    <tr>\n",
       "      <th>count</th>\n",
       "      <td>79942.000000</td>\n",
       "      <td>79942.000000</td>\n",
       "      <td>79942.000000</td>\n",
       "      <td>79942.000000</td>\n",
       "      <td>79942.000000</td>\n",
       "      <td>79942.000000</td>\n",
       "      <td>79942.000000</td>\n",
       "      <td>79942.000000</td>\n",
       "    </tr>\n",
       "    <tr>\n",
       "      <th>mean</th>\n",
       "      <td>-0.357395</td>\n",
       "      <td>1.503843</td>\n",
       "      <td>-0.383036</td>\n",
       "      <td>-0.292871</td>\n",
       "      <td>0.030118</td>\n",
       "      <td>0.279942</td>\n",
       "      <td>0.057808</td>\n",
       "      <td>666.747064</td>\n",
       "    </tr>\n",
       "    <tr>\n",
       "      <th>std</th>\n",
       "      <td>0.635892</td>\n",
       "      <td>0.094245</td>\n",
       "      <td>0.393907</td>\n",
       "      <td>0.554947</td>\n",
       "      <td>0.143357</td>\n",
       "      <td>0.683194</td>\n",
       "      <td>0.190669</td>\n",
       "      <td>384.927392</td>\n",
       "    </tr>\n",
       "    <tr>\n",
       "      <th>min</th>\n",
       "      <td>-1.629000</td>\n",
       "      <td>0.745000</td>\n",
       "      <td>-1.315000</td>\n",
       "      <td>-1.000000</td>\n",
       "      <td>-0.468000</td>\n",
       "      <td>-1.000000</td>\n",
       "      <td>-0.507000</td>\n",
       "      <td>0.009000</td>\n",
       "    </tr>\n",
       "    <tr>\n",
       "      <th>25%</th>\n",
       "      <td>-0.838000</td>\n",
       "      <td>1.484000</td>\n",
       "      <td>-0.621000</td>\n",
       "      <td>-0.832000</td>\n",
       "      <td>-0.049000</td>\n",
       "      <td>-0.231000</td>\n",
       "      <td>-0.046000</td>\n",
       "      <td>333.394250</td>\n",
       "    </tr>\n",
       "    <tr>\n",
       "      <th>50%</th>\n",
       "      <td>-0.460000</td>\n",
       "      <td>1.519000</td>\n",
       "      <td>-0.381000</td>\n",
       "      <td>-0.278000</td>\n",
       "      <td>0.012000</td>\n",
       "      <td>0.570000</td>\n",
       "      <td>0.034500</td>\n",
       "      <td>666.732000</td>\n",
       "    </tr>\n",
       "    <tr>\n",
       "      <th>75%</th>\n",
       "      <td>0.146000</td>\n",
       "      <td>1.555000</td>\n",
       "      <td>-0.168000</td>\n",
       "      <td>0.070000</td>\n",
       "      <td>0.100000</td>\n",
       "      <td>0.917000</td>\n",
       "      <td>0.192000</td>\n",
       "      <td>1000.102750</td>\n",
       "    </tr>\n",
       "    <tr>\n",
       "      <th>max</th>\n",
       "      <td>1.172000</td>\n",
       "      <td>1.616000</td>\n",
       "      <td>0.867000</td>\n",
       "      <td>1.000000</td>\n",
       "      <td>0.557000</td>\n",
       "      <td>1.000000</td>\n",
       "      <td>0.490000</td>\n",
       "      <td>1333.440000</td>\n",
       "    </tr>\n",
       "  </tbody>\n",
       "</table>\n",
       "</div>"
      ],
      "text/plain": [
       "           HeadPosX      HeadPosY      HeadPosZ  HeadOrientationW  \\\n",
       "count  79942.000000  79942.000000  79942.000000      79942.000000   \n",
       "mean      -0.357395      1.503843     -0.383036         -0.292871   \n",
       "std        0.635892      0.094245      0.393907          0.554947   \n",
       "min       -1.629000      0.745000     -1.315000         -1.000000   \n",
       "25%       -0.838000      1.484000     -0.621000         -0.832000   \n",
       "50%       -0.460000      1.519000     -0.381000         -0.278000   \n",
       "75%        0.146000      1.555000     -0.168000          0.070000   \n",
       "max        1.172000      1.616000      0.867000          1.000000   \n",
       "\n",
       "       HeadOrientationX  HeadOrientationY  HeadOrientationZ          time  \n",
       "count      79942.000000      79942.000000      79942.000000  79942.000000  \n",
       "mean           0.030118          0.279942          0.057808    666.747064  \n",
       "std            0.143357          0.683194          0.190669    384.927392  \n",
       "min           -0.468000         -1.000000         -0.507000      0.009000  \n",
       "25%           -0.049000         -0.231000         -0.046000    333.394250  \n",
       "50%            0.012000          0.570000          0.034500    666.732000  \n",
       "75%            0.100000          0.917000          0.192000   1000.102750  \n",
       "max            0.557000          1.000000          0.490000   1333.440000  "
      ]
     },
     "metadata": {},
     "output_type": "display_data"
    }
   ],
   "source": [
    "# Print the Statistical Description for 5 Participants (fast and slow)\n",
    "for i in movement_data[:10]:\n",
    "    df = pd.read_csv(i)\n",
    "    idx = i.split('/')\n",
    "    speed = 'fast' if 'fast' in idx[-1] else 'slow'\n",
    "    print(f'Statistical Description of participant {participant_dict[idx[4]]} - {speed} Movement')\n",
    "    display(df.describe())"
   ]
  },
  {
   "cell_type": "code",
   "execution_count": 3,
   "metadata": {},
   "outputs": [
    {
     "data": {
      "text/html": [
       "<div>\n",
       "<style scoped>\n",
       "    .dataframe tbody tr th:only-of-type {\n",
       "        vertical-align: middle;\n",
       "    }\n",
       "\n",
       "    .dataframe tbody tr th {\n",
       "        vertical-align: top;\n",
       "    }\n",
       "\n",
       "    .dataframe thead th {\n",
       "        text-align: right;\n",
       "    }\n",
       "</style>\n",
       "<table border=\"1\" class=\"dataframe\">\n",
       "  <thead>\n",
       "    <tr style=\"text-align: right;\">\n",
       "      <th></th>\n",
       "      <th>HeadPosX_mean</th>\n",
       "      <th>HeadPosX_std</th>\n",
       "      <th>HeadPosX_min</th>\n",
       "      <th>HeadPosX_25%</th>\n",
       "      <th>HeadPosX_50%</th>\n",
       "      <th>HeadPosX_75%</th>\n",
       "      <th>HeadPosX_max</th>\n",
       "      <th>HeadPosY_mean</th>\n",
       "      <th>HeadPosY_std</th>\n",
       "      <th>HeadPosY_min</th>\n",
       "      <th>...</th>\n",
       "      <th>HeadOrientationY_75%</th>\n",
       "      <th>HeadOrientationY_max</th>\n",
       "      <th>HeadOrientationZ_mean</th>\n",
       "      <th>HeadOrientationZ_std</th>\n",
       "      <th>HeadOrientationZ_min</th>\n",
       "      <th>HeadOrientationZ_25%</th>\n",
       "      <th>HeadOrientationZ_50%</th>\n",
       "      <th>HeadOrientationZ_75%</th>\n",
       "      <th>HeadOrientationZ_max</th>\n",
       "      <th>ID_</th>\n",
       "    </tr>\n",
       "  </thead>\n",
       "  <tbody>\n",
       "    <tr>\n",
       "      <th>0</th>\n",
       "      <td>0.082856</td>\n",
       "      <td>0.208084</td>\n",
       "      <td>-0.616</td>\n",
       "      <td>-0.018</td>\n",
       "      <td>0.119</td>\n",
       "      <td>0.229</td>\n",
       "      <td>0.678</td>\n",
       "      <td>1.401169</td>\n",
       "      <td>0.087422</td>\n",
       "      <td>0.690</td>\n",
       "      <td>...</td>\n",
       "      <td>0.97500</td>\n",
       "      <td>1.000</td>\n",
       "      <td>0.095999</td>\n",
       "      <td>0.146681</td>\n",
       "      <td>-0.278</td>\n",
       "      <td>-0.041</td>\n",
       "      <td>0.1320</td>\n",
       "      <td>0.208</td>\n",
       "      <td>0.490</td>\n",
       "      <td>group1_order1_user0</td>\n",
       "    </tr>\n",
       "    <tr>\n",
       "      <th>1</th>\n",
       "      <td>-0.117749</td>\n",
       "      <td>0.572471</td>\n",
       "      <td>-1.321</td>\n",
       "      <td>-0.658</td>\n",
       "      <td>0.105</td>\n",
       "      <td>0.334</td>\n",
       "      <td>0.885</td>\n",
       "      <td>1.436281</td>\n",
       "      <td>0.189291</td>\n",
       "      <td>0.602</td>\n",
       "      <td>...</td>\n",
       "      <td>0.00025</td>\n",
       "      <td>1.000</td>\n",
       "      <td>-0.098536</td>\n",
       "      <td>0.178423</td>\n",
       "      <td>-0.820</td>\n",
       "      <td>-0.242</td>\n",
       "      <td>-0.1300</td>\n",
       "      <td>0.041</td>\n",
       "      <td>0.333</td>\n",
       "      <td>group1_order1_user1</td>\n",
       "    </tr>\n",
       "    <tr>\n",
       "      <th>2</th>\n",
       "      <td>-0.318917</td>\n",
       "      <td>0.103610</td>\n",
       "      <td>-0.775</td>\n",
       "      <td>-0.385</td>\n",
       "      <td>-0.338</td>\n",
       "      <td>-0.248</td>\n",
       "      <td>0.000</td>\n",
       "      <td>1.562906</td>\n",
       "      <td>0.155403</td>\n",
       "      <td>0.000</td>\n",
       "      <td>...</td>\n",
       "      <td>-0.11100</td>\n",
       "      <td>0.548</td>\n",
       "      <td>-0.030043</td>\n",
       "      <td>0.088425</td>\n",
       "      <td>-0.295</td>\n",
       "      <td>-0.095</td>\n",
       "      <td>0.0000</td>\n",
       "      <td>0.034</td>\n",
       "      <td>0.277</td>\n",
       "      <td>group1_order1_user10</td>\n",
       "    </tr>\n",
       "    <tr>\n",
       "      <th>3</th>\n",
       "      <td>-0.155172</td>\n",
       "      <td>0.201464</td>\n",
       "      <td>-0.750</td>\n",
       "      <td>-0.277</td>\n",
       "      <td>-0.128</td>\n",
       "      <td>-0.008</td>\n",
       "      <td>0.369</td>\n",
       "      <td>1.472190</td>\n",
       "      <td>0.147104</td>\n",
       "      <td>0.643</td>\n",
       "      <td>...</td>\n",
       "      <td>0.95500</td>\n",
       "      <td>1.000</td>\n",
       "      <td>0.083553</td>\n",
       "      <td>0.131324</td>\n",
       "      <td>-0.264</td>\n",
       "      <td>-0.015</td>\n",
       "      <td>0.0920</td>\n",
       "      <td>0.185</td>\n",
       "      <td>0.426</td>\n",
       "      <td>group1_order1_user11</td>\n",
       "    </tr>\n",
       "    <tr>\n",
       "      <th>4</th>\n",
       "      <td>-0.357395</td>\n",
       "      <td>0.635892</td>\n",
       "      <td>-1.629</td>\n",
       "      <td>-0.838</td>\n",
       "      <td>-0.460</td>\n",
       "      <td>0.146</td>\n",
       "      <td>1.172</td>\n",
       "      <td>1.503843</td>\n",
       "      <td>0.094245</td>\n",
       "      <td>0.745</td>\n",
       "      <td>...</td>\n",
       "      <td>0.91700</td>\n",
       "      <td>1.000</td>\n",
       "      <td>0.057808</td>\n",
       "      <td>0.190669</td>\n",
       "      <td>-0.507</td>\n",
       "      <td>-0.046</td>\n",
       "      <td>0.0345</td>\n",
       "      <td>0.192</td>\n",
       "      <td>0.490</td>\n",
       "      <td>group1_order1_user12</td>\n",
       "    </tr>\n",
       "  </tbody>\n",
       "</table>\n",
       "<p>5 rows × 50 columns</p>\n",
       "</div>"
      ],
      "text/plain": [
       "   HeadPosX_mean  HeadPosX_std  HeadPosX_min  HeadPosX_25%  HeadPosX_50%  \\\n",
       "0       0.082856      0.208084        -0.616        -0.018         0.119   \n",
       "1      -0.117749      0.572471        -1.321        -0.658         0.105   \n",
       "2      -0.318917      0.103610        -0.775        -0.385        -0.338   \n",
       "3      -0.155172      0.201464        -0.750        -0.277        -0.128   \n",
       "4      -0.357395      0.635892        -1.629        -0.838        -0.460   \n",
       "\n",
       "   HeadPosX_75%  HeadPosX_max  HeadPosY_mean  HeadPosY_std  HeadPosY_min  ...  \\\n",
       "0         0.229         0.678       1.401169      0.087422         0.690  ...   \n",
       "1         0.334         0.885       1.436281      0.189291         0.602  ...   \n",
       "2        -0.248         0.000       1.562906      0.155403         0.000  ...   \n",
       "3        -0.008         0.369       1.472190      0.147104         0.643  ...   \n",
       "4         0.146         1.172       1.503843      0.094245         0.745  ...   \n",
       "\n",
       "   HeadOrientationY_75%  HeadOrientationY_max  HeadOrientationZ_mean  \\\n",
       "0               0.97500                 1.000               0.095999   \n",
       "1               0.00025                 1.000              -0.098536   \n",
       "2              -0.11100                 0.548              -0.030043   \n",
       "3               0.95500                 1.000               0.083553   \n",
       "4               0.91700                 1.000               0.057808   \n",
       "\n",
       "   HeadOrientationZ_std  HeadOrientationZ_min  HeadOrientationZ_25%  \\\n",
       "0              0.146681                -0.278                -0.041   \n",
       "1              0.178423                -0.820                -0.242   \n",
       "2              0.088425                -0.295                -0.095   \n",
       "3              0.131324                -0.264                -0.015   \n",
       "4              0.190669                -0.507                -0.046   \n",
       "\n",
       "   HeadOrientationZ_50%  HeadOrientationZ_75%  HeadOrientationZ_max  \\\n",
       "0                0.1320                 0.208                 0.490   \n",
       "1               -0.1300                 0.041                 0.333   \n",
       "2                0.0000                 0.034                 0.277   \n",
       "3                0.0920                 0.185                 0.426   \n",
       "4                0.0345                 0.192                 0.490   \n",
       "\n",
       "                    ID_  \n",
       "0   group1_order1_user0  \n",
       "1   group1_order1_user1  \n",
       "2  group1_order1_user10  \n",
       "3  group1_order1_user11  \n",
       "4  group1_order1_user12  \n",
       "\n",
       "[5 rows x 50 columns]"
      ]
     },
     "execution_count": 3,
     "metadata": {},
     "output_type": "execute_result"
    }
   ],
   "source": [
    "df = pd.read_csv('C:/Users/salim/vr_user_identification/data/processed/movement_slow_stat.csv')\n",
    "df.head()"
   ]
  },
  {
   "attachments": {},
   "cell_type": "markdown",
   "metadata": {},
   "source": [
    "## 1.3. Univariate Analysis:"
   ]
  },
  {
   "attachments": {},
   "cell_type": "markdown",
   "metadata": {},
   "source": [
    "## 1.4. Multivariate Analysis:"
   ]
  }
 ],
 "metadata": {
  "kernelspec": {
   "display_name": "base",
   "language": "python",
   "name": "python3"
  },
  "language_info": {
   "codemirror_mode": {
    "name": "ipython",
    "version": 3
   },
   "file_extension": ".py",
   "mimetype": "text/x-python",
   "name": "python",
   "nbconvert_exporter": "python",
   "pygments_lexer": "ipython3",
   "version": "3.9.12"
  },
  "orig_nbformat": 4
 },
 "nbformat": 4,
 "nbformat_minor": 2
}
