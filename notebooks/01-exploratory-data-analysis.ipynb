{
 "cells": [
  {
   "attachments": {},
   "cell_type": "markdown",
   "metadata": {},
   "source": [
    "# 1. Exploratory Data Analysis"
   ]
  },
  {
   "attachments": {},
   "cell_type": "markdown",
   "metadata": {},
   "source": [
    "## 1.1. Understanding the Project\n",
    "\n",
    "The primary objective of this project is to predict and identify users' private information, including their **ID number**, **gender**, and **age**. This is achieved through the analysis of two types of data: **head and hand motion data**, and **traffic data**.\n",
    "\n",
    "Data collection involved conducting experiments with **100 participants** who engaged in gameplay across two randomly selected games from a pool of four choices **(Forklift Simulator, Medal of Honour, Beat Saber, Cooking Simulator)**. Each participant played each game for multiple session with a minimum of **10 minutes** per session. The participants were divided into two groups, with each group situated in a separate room with similar conditions. The VR headset used for the experiments was the **Oculus Quest 2**.\n",
    "\n",
    "Throughout the experiments, participants experienced diverse types of movements, such as **walking and joystick** interactions, depending on the nature of the selected game. Simultaneously, traffic data was recorded by connecting the VR headset to a capable device capable of capturing the traffic data while participants engaged in gameplay.\n",
    "\n",
    "Among the initially planned **100 participants**, we opted to analyze the data from only **60 participants**. This decision was prompted by technical challenges and disruptions experienced by the remaining participants. Some individuals encountered technical issues during the experiments, while others had to discontinue their participation due to VR sickness. As a result, the dataset was narrowed down to the data collected from the 60 participants who completed the experiments successfully."
   ]
  },
  {
   "attachments": {},
   "cell_type": "markdown",
   "metadata": {},
   "source": [
    "## 1.2. Descriptive Statistics"
   ]
  },
  {
   "attachments": {},
   "cell_type": "markdown",
   "metadata": {},
   "source": [
    "## 1.3. Univariate Analysis:"
   ]
  },
  {
   "attachments": {},
   "cell_type": "markdown",
   "metadata": {},
   "source": [
    "## 1.4. Multivariate Analysis:"
   ]
  }
 ],
 "metadata": {
  "language_info": {
   "name": "python"
  },
  "orig_nbformat": 4
 },
 "nbformat": 4,
 "nbformat_minor": 2
}
