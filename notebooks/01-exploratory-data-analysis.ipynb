{
 "cells": [
  {
   "attachments": {},
   "cell_type": "markdown",
   "metadata": {},
   "source": [
    "# 1. Exploratory Data Analysis"
   ]
  },
  {
   "attachments": {},
   "cell_type": "markdown",
   "metadata": {},
   "source": [
    "## 1.1. Understanding the Project\n",
    "\n",
    "The primary objective of this project is to predict and identify users' private information, including their **ID number**, **gender**, and **age**. This is achieved through the analysis of two types of data: **head and hand motion data**, and **traffic data**.\n",
    "\n",
    "Data collection involved conducting experiments with **100 participants** who engaged in gameplay across **two sets**: **Beat Saber and Cooking Simulator** for the first set, and **Medal of Honor and Forklift Simulator** for the second set. Each set consisted of a **slow game** and a **fast game**. For the first set, Beat Saber was the fast game, and Cooking Simulator was the slow one. For the second set, Forklift Simulator was the fast game, and Medal of Honor was the slow one. Each participant played each game for multiple sessions, with a minimum of **10 minutes** per session. Participants could choose to start with either the fast or slow game based on their experience with the VR headset. The participants were divided into **two groups**, with each group situated in a separate room with similar conditions. The VR headset used for the experiments was the **Oculus Quest 2**.\n",
    "\n",
    "Throughout the experiments, participants experienced diverse types of movements, such as **walking** and **joystick interactions**, depending on the nature of the selected game. Simultaneously, traffic data was recorded by connecting the VR headset to a capable device capable of capturing the traffic data while participants engaged in gameplay.\n",
    "\n",
    "Among the initially planned **100 participants**, we opted to analyze the data from only **60 participants**. This decision was prompted by technical challenges and disruptions experienced by the remaining participants. Some individuals encountered technical issues during the experiments, while others had to discontinue their participation due to VR sickness. As a result, the dataset was narrowed down to the data collected from the 60 participants who completed the experiments successfully.\n"
   ]
  },
  {
   "cell_type": "markdown",
   "metadata": {},
   "source": [
    "## 1.2. Understanding the Games\n",
    "in this project project we selected 4 well know VR Games which Beat Saber, cooking simlator, medal of honor, and forklift somulator, this games can capture different movement patterns.\n",
    "### 1.2.1. Beat Saber\n",
    "![Beat Saber](https://www.donanimhaber.com/images/images/haber/116345/src/facebook-sanal-gerceklik-sirketi-beat-games-i-satin-aldi116345_0.jpg)\n",
    "Image source :  https://www.donanimhaber.com/facebook-sanal-gerceklik-sirketi-beat-games-i-satin-aldi--116345\n",
    "\n",
    "Beat Saber stands as a Virtual Reality rhythm game where the objective revolves around slashing beat cubes using a lightsaber as they approach [1]. This game is about maintaining rhythm, with players equipped with a lightsaber in each hand—one blue and one red. As the music initiates, blocks comes at the player with colored arrows glide , akin to other rhythm games. The player's task is to slash the blocks following the direction indicated by the arrows, all while navigating obstacles that come their way through body and lightsaber movements.\n",
    "\n",
    "Success in Beat Saber hinges on precise timing; successful slashes contribute to an escalating combo multiplier and, consequently, a higher final score. While the initial gameplay may seem straightforward, numerous streaming videos reveal the potential for chaos to ensue rapidly. To accommodate a range of skill levels, each song features multiple difficulty levels, allowing beginners to easily engage and experts to revel in a challenging experience.\n",
    "\n",
    "Sources : \n",
    "\n",
    "[1] :  https://www.meta.com/en-gb/experiences/2448060205267927/\n",
    "\n",
    "[2] :  https://www.windowscentral.com/beat-saber-everything-we-know-about-vr-rhythm-game\n",
    "\n",
    "### 1.2.2. Cooking Simluator\n",
    "### 1.2.3. Medal of Honor\n",
    "### 1.2.4. Forklift simulator"
   ]
  },
  {
   "attachments": {},
   "cell_type": "markdown",
   "metadata": {},
   "source": [
    "## 1.2. Descriptive Statistics"
   ]
  },
  {
   "cell_type": "code",
   "execution_count": 12,
   "metadata": {},
   "outputs": [],
   "source": [
    "import pandas as pd \n",
    "import numpy as np\n",
    "import matplotlib.pyplot as plt \n",
    "import plotly\n",
    "import os\n",
    "import plotly.express as px"
   ]
  },
  {
   "cell_type": "code",
   "execution_count": 9,
   "metadata": {},
   "outputs": [],
   "source": [
    "# Store all the files paths related to the participants data\n",
    "all_files = []\n",
    "data_path = '../data/raw/Raw_traffic_and_movement_data/'\n",
    "for path, subdirs, files in os.walk(data_path):\n",
    "    for name in files:\n",
    "        all_files.append(path + '/' + name)\n",
    "\n",
    "# Separating traffic data and movement data paths \n",
    "traffic_data = [x  for x in all_files if '_traffic' in x]\n",
    "movement_data = [x  for x in all_files if '_movemen' in x]"
   ]
  },
  {
   "cell_type": "code",
   "execution_count": 10,
   "metadata": {},
   "outputs": [
    {
     "name": "stdout",
     "output_type": "stream",
     "text": [
      "{'group1_order1_user0': 1, 'group1_order1_user1': 2, 'group1_order1_user10': 3, 'group1_order1_user11': 4, 'group1_order1_user12': 5, 'group1_order1_user13': 6, 'group1_order1_user14': 7, 'group1_order1_user2': 8, 'group1_order1_user3': 9, 'group1_order1_user4': 10, 'group1_order1_user5': 11, 'group1_order1_user6': 12, 'group1_order1_user7': 13, 'group1_order1_user8': 14, 'group1_order1_user9': 15, 'group1_order2_user0': 16, 'group1_order2_user1': 17, 'group1_order2_user10': 18, 'group1_order2_user11': 19, 'group1_order2_user12': 20, 'group1_order2_user13': 21, 'group1_order2_user14': 22, 'group1_order2_user2': 23, 'group1_order2_user3': 24, 'group1_order2_user4': 25, 'group1_order2_user5': 26, 'group1_order2_user6': 27, 'group1_order2_user7': 28, 'group1_order2_user8': 29, 'group1_order2_user9': 30, 'group2_order1_user0': 31, 'group2_order1_user1': 32, 'group2_order1_user10': 33, 'group2_order1_user11': 34, 'group2_order1_user12': 35, 'group2_order1_user13': 36, 'group2_order1_user14': 37, 'group2_order1_user2': 38, 'group2_order1_user3': 39, 'group2_order1_user4': 40, 'group2_order1_user5': 41, 'group2_order1_user6': 42, 'group2_order1_user7': 43, 'group2_order1_user8': 44, 'group2_order1_user9': 45, 'group2_order2_user0': 46, 'group2_order2_user1': 47, 'group2_order2_user10': 48, 'group2_order2_user11': 49, 'group2_order2_user12': 50, 'group2_order2_user13': 51, 'group2_order2_user14': 52, 'group2_order2_user2': 53, 'group2_order2_user3': 54, 'group2_order2_user4': 55, 'group2_order2_user5': 56, 'group2_order2_user6': 57, 'group2_order2_user7': 58, 'group2_order2_user8': 59, 'group2_order2_user9': 60}\n"
     ]
    }
   ],
   "source": [
    "# Assign Numeric ID to participants \n",
    "participants = next(os.walk(data_path))[1]\n",
    "participant_dict = {participant: idx + 1 for idx, participant in enumerate(participants)}\n",
    "print(participant_dict)"
   ]
  },
  {
   "cell_type": "code",
   "execution_count": 11,
   "metadata": {},
   "outputs": [
    {
     "ename": "KeyError",
     "evalue": "''",
     "output_type": "error",
     "traceback": [
      "\u001b[1;31m---------------------------------------------------------------------------\u001b[0m",
      "\u001b[1;31mKeyError\u001b[0m                                  Traceback (most recent call last)",
      "\u001b[1;32mc:\\Users\\salim\\vr_user_identification\\notebooks\\01-exploratory-data-analysis.ipynb Cell 8\u001b[0m line \u001b[0;36m<cell line: 2>\u001b[1;34m()\u001b[0m\n\u001b[0;32m      <a href='vscode-notebook-cell:/c%3A/Users/salim/vr_user_identification/notebooks/01-exploratory-data-analysis.ipynb#X10sZmlsZQ%3D%3D?line=3'>4</a>\u001b[0m idx \u001b[39m=\u001b[39m i\u001b[39m.\u001b[39msplit(\u001b[39m'\u001b[39m\u001b[39m/\u001b[39m\u001b[39m'\u001b[39m)\n\u001b[0;32m      <a href='vscode-notebook-cell:/c%3A/Users/salim/vr_user_identification/notebooks/01-exploratory-data-analysis.ipynb#X10sZmlsZQ%3D%3D?line=4'>5</a>\u001b[0m speed \u001b[39m=\u001b[39m \u001b[39m'\u001b[39m\u001b[39mfast\u001b[39m\u001b[39m'\u001b[39m \u001b[39mif\u001b[39;00m \u001b[39m'\u001b[39m\u001b[39mfast\u001b[39m\u001b[39m'\u001b[39m \u001b[39min\u001b[39;00m idx[\u001b[39m-\u001b[39m\u001b[39m1\u001b[39m] \u001b[39melse\u001b[39;00m \u001b[39m'\u001b[39m\u001b[39mslow\u001b[39m\u001b[39m'\u001b[39m\n\u001b[1;32m----> <a href='vscode-notebook-cell:/c%3A/Users/salim/vr_user_identification/notebooks/01-exploratory-data-analysis.ipynb#X10sZmlsZQ%3D%3D?line=5'>6</a>\u001b[0m \u001b[39mprint\u001b[39m(\u001b[39mf\u001b[39m\u001b[39m'\u001b[39m\u001b[39mStatistical Description of participant \u001b[39m\u001b[39m{\u001b[39;00mparticipant_dict[idx[\u001b[39m4\u001b[39m]]\u001b[39m}\u001b[39;00m\u001b[39m - \u001b[39m\u001b[39m{\u001b[39;00mspeed\u001b[39m}\u001b[39;00m\u001b[39m Movement\u001b[39m\u001b[39m'\u001b[39m)\n\u001b[0;32m      <a href='vscode-notebook-cell:/c%3A/Users/salim/vr_user_identification/notebooks/01-exploratory-data-analysis.ipynb#X10sZmlsZQ%3D%3D?line=6'>7</a>\u001b[0m display(df\u001b[39m.\u001b[39mdescribe())\n",
      "\u001b[1;31mKeyError\u001b[0m: ''"
     ]
    }
   ],
   "source": [
    "# Print the Statistical Description for 5 Participants (fast and slow)\n",
    "for i in movement_data[:10]:\n",
    "    df = pd.read_csv(i)\n",
    "    idx = i.split('/')\n",
    "    speed = 'fast' if 'fast' in idx[-1] else 'slow'\n",
    "    print(f'Statistical Description of participant {participant_dict[idx[4]]} - {speed} Movement')\n",
    "    display(df.describe())"
   ]
  },
  {
   "cell_type": "code",
   "execution_count": 18,
   "metadata": {},
   "outputs": [
    {
     "data": {
      "text/html": [
       "<div>\n",
       "<style scoped>\n",
       "    .dataframe tbody tr th:only-of-type {\n",
       "        vertical-align: middle;\n",
       "    }\n",
       "\n",
       "    .dataframe tbody tr th {\n",
       "        vertical-align: top;\n",
       "    }\n",
       "\n",
       "    .dataframe thead th {\n",
       "        text-align: right;\n",
       "    }\n",
       "</style>\n",
       "<table border=\"1\" class=\"dataframe\">\n",
       "  <thead>\n",
       "    <tr style=\"text-align: right;\">\n",
       "      <th></th>\n",
       "      <th>HeadPosX_count</th>\n",
       "      <th>HeadPosX_mean</th>\n",
       "      <th>HeadPosX_std</th>\n",
       "      <th>HeadPosX_min</th>\n",
       "      <th>HeadPosX_25%</th>\n",
       "      <th>HeadPosX_50%</th>\n",
       "      <th>HeadPosX_75%</th>\n",
       "      <th>HeadPosX_max</th>\n",
       "      <th>HeadPosY_count</th>\n",
       "      <th>HeadPosY_mean</th>\n",
       "      <th>...</th>\n",
       "      <th>HeadOrientationZ_max</th>\n",
       "      <th>time_count</th>\n",
       "      <th>time_mean</th>\n",
       "      <th>time_std</th>\n",
       "      <th>time_min</th>\n",
       "      <th>time_25%</th>\n",
       "      <th>time_50%</th>\n",
       "      <th>time_75%</th>\n",
       "      <th>time_max</th>\n",
       "      <th>IDs_</th>\n",
       "    </tr>\n",
       "  </thead>\n",
       "  <tbody>\n",
       "    <tr>\n",
       "      <th>0</th>\n",
       "      <td>79913.0</td>\n",
       "      <td>0.082856</td>\n",
       "      <td>0.208084</td>\n",
       "      <td>-0.616</td>\n",
       "      <td>-0.018</td>\n",
       "      <td>0.119</td>\n",
       "      <td>0.229</td>\n",
       "      <td>0.678</td>\n",
       "      <td>79913.0</td>\n",
       "      <td>1.401169</td>\n",
       "      <td>...</td>\n",
       "      <td>0.490</td>\n",
       "      <td>79913.0</td>\n",
       "      <td>666.467389</td>\n",
       "      <td>384.800830</td>\n",
       "      <td>0.000</td>\n",
       "      <td>333.21600</td>\n",
       "      <td>666.450</td>\n",
       "      <td>999.71800</td>\n",
       "      <td>1332.952</td>\n",
       "      <td>group1_order1_user0</td>\n",
       "    </tr>\n",
       "    <tr>\n",
       "      <th>1</th>\n",
       "      <td>55444.0</td>\n",
       "      <td>-0.117749</td>\n",
       "      <td>0.572471</td>\n",
       "      <td>-1.321</td>\n",
       "      <td>-0.658</td>\n",
       "      <td>0.105</td>\n",
       "      <td>0.334</td>\n",
       "      <td>0.885</td>\n",
       "      <td>55444.0</td>\n",
       "      <td>1.436281</td>\n",
       "      <td>...</td>\n",
       "      <td>0.333</td>\n",
       "      <td>55444.0</td>\n",
       "      <td>497.222756</td>\n",
       "      <td>266.966421</td>\n",
       "      <td>34.873</td>\n",
       "      <td>266.02675</td>\n",
       "      <td>497.230</td>\n",
       "      <td>728.41625</td>\n",
       "      <td>959.653</td>\n",
       "      <td>group1_order1_user1</td>\n",
       "    </tr>\n",
       "    <tr>\n",
       "      <th>2</th>\n",
       "      <td>37148.0</td>\n",
       "      <td>-0.318917</td>\n",
       "      <td>0.103610</td>\n",
       "      <td>-0.775</td>\n",
       "      <td>-0.385</td>\n",
       "      <td>-0.338</td>\n",
       "      <td>-0.248</td>\n",
       "      <td>0.000</td>\n",
       "      <td>37148.0</td>\n",
       "      <td>1.562906</td>\n",
       "      <td>...</td>\n",
       "      <td>0.277</td>\n",
       "      <td>37148.0</td>\n",
       "      <td>309.804590</td>\n",
       "      <td>178.871974</td>\n",
       "      <td>0.006</td>\n",
       "      <td>154.90000</td>\n",
       "      <td>309.812</td>\n",
       "      <td>464.70725</td>\n",
       "      <td>619.604</td>\n",
       "      <td>group1_order1_user10</td>\n",
       "    </tr>\n",
       "    <tr>\n",
       "      <th>3</th>\n",
       "      <td>74327.0</td>\n",
       "      <td>-0.155172</td>\n",
       "      <td>0.201464</td>\n",
       "      <td>-0.750</td>\n",
       "      <td>-0.277</td>\n",
       "      <td>-0.128</td>\n",
       "      <td>-0.008</td>\n",
       "      <td>0.369</td>\n",
       "      <td>74327.0</td>\n",
       "      <td>1.472190</td>\n",
       "      <td>...</td>\n",
       "      <td>0.426</td>\n",
       "      <td>74327.0</td>\n",
       "      <td>619.908630</td>\n",
       "      <td>357.908962</td>\n",
       "      <td>0.000</td>\n",
       "      <td>309.97500</td>\n",
       "      <td>619.900</td>\n",
       "      <td>929.87450</td>\n",
       "      <td>1239.799</td>\n",
       "      <td>group1_order1_user11</td>\n",
       "    </tr>\n",
       "    <tr>\n",
       "      <th>4</th>\n",
       "      <td>79942.0</td>\n",
       "      <td>-0.357395</td>\n",
       "      <td>0.635892</td>\n",
       "      <td>-1.629</td>\n",
       "      <td>-0.838</td>\n",
       "      <td>-0.460</td>\n",
       "      <td>0.146</td>\n",
       "      <td>1.172</td>\n",
       "      <td>79942.0</td>\n",
       "      <td>1.503843</td>\n",
       "      <td>...</td>\n",
       "      <td>0.490</td>\n",
       "      <td>79942.0</td>\n",
       "      <td>666.747064</td>\n",
       "      <td>384.927392</td>\n",
       "      <td>0.009</td>\n",
       "      <td>333.39425</td>\n",
       "      <td>666.732</td>\n",
       "      <td>1000.10275</td>\n",
       "      <td>1333.440</td>\n",
       "      <td>group1_order1_user12</td>\n",
       "    </tr>\n",
       "  </tbody>\n",
       "</table>\n",
       "<p>5 rows × 65 columns</p>\n",
       "</div>"
      ],
      "text/plain": [
       "   HeadPosX_count  HeadPosX_mean  HeadPosX_std  HeadPosX_min  HeadPosX_25%  \\\n",
       "0         79913.0       0.082856      0.208084        -0.616        -0.018   \n",
       "1         55444.0      -0.117749      0.572471        -1.321        -0.658   \n",
       "2         37148.0      -0.318917      0.103610        -0.775        -0.385   \n",
       "3         74327.0      -0.155172      0.201464        -0.750        -0.277   \n",
       "4         79942.0      -0.357395      0.635892        -1.629        -0.838   \n",
       "\n",
       "   HeadPosX_50%  HeadPosX_75%  HeadPosX_max  HeadPosY_count  HeadPosY_mean  \\\n",
       "0         0.119         0.229         0.678         79913.0       1.401169   \n",
       "1         0.105         0.334         0.885         55444.0       1.436281   \n",
       "2        -0.338        -0.248         0.000         37148.0       1.562906   \n",
       "3        -0.128        -0.008         0.369         74327.0       1.472190   \n",
       "4        -0.460         0.146         1.172         79942.0       1.503843   \n",
       "\n",
       "   ...  HeadOrientationZ_max  time_count   time_mean    time_std  time_min  \\\n",
       "0  ...                 0.490     79913.0  666.467389  384.800830     0.000   \n",
       "1  ...                 0.333     55444.0  497.222756  266.966421    34.873   \n",
       "2  ...                 0.277     37148.0  309.804590  178.871974     0.006   \n",
       "3  ...                 0.426     74327.0  619.908630  357.908962     0.000   \n",
       "4  ...                 0.490     79942.0  666.747064  384.927392     0.009   \n",
       "\n",
       "    time_25%  time_50%    time_75%  time_max                  IDs_  \n",
       "0  333.21600   666.450   999.71800  1332.952   group1_order1_user0  \n",
       "1  266.02675   497.230   728.41625   959.653   group1_order1_user1  \n",
       "2  154.90000   309.812   464.70725   619.604  group1_order1_user10  \n",
       "3  309.97500   619.900   929.87450  1239.799  group1_order1_user11  \n",
       "4  333.39425   666.732  1000.10275  1333.440  group1_order1_user12  \n",
       "\n",
       "[5 rows x 65 columns]"
      ]
     },
     "execution_count": 18,
     "metadata": {},
     "output_type": "execute_result"
    }
   ],
   "source": [
    "df = pd.read_csv('C:/Users/salim/vr_user_identification/data/processed/movement_slow_stat.csv')\n",
    "df.head()"
   ]
  },
  {
   "attachments": {},
   "cell_type": "markdown",
   "metadata": {},
   "source": [
    "## 1.3. Univariate Analysis:"
   ]
  },
  {
   "attachments": {},
   "cell_type": "markdown",
   "metadata": {},
   "source": [
    "## 1.4. Multivariate Analysis:"
   ]
  }
 ],
 "metadata": {
  "kernelspec": {
   "display_name": "base",
   "language": "python",
   "name": "python3"
  },
  "language_info": {
   "codemirror_mode": {
    "name": "ipython",
    "version": 3
   },
   "file_extension": ".py",
   "mimetype": "text/x-python",
   "name": "python",
   "nbconvert_exporter": "python",
   "pygments_lexer": "ipython3",
   "version": "3.9.12"
  },
  "orig_nbformat": 4
 },
 "nbformat": 4,
 "nbformat_minor": 2
}
